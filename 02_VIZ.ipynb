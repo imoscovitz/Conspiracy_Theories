{
 "cells": [
  {
   "cell_type": "code",
   "execution_count": 2,
   "metadata": {},
   "outputs": [],
   "source": [
    "import warnings\n",
    "warnings.filterwarnings(action='ignore', category=DeprecationWarning)\n",
    "warnings.filterwarnings(action='ignore', category=PendingDeprecationWarning)\n",
    "warnings.filterwarnings(action='ignore', category=ResourceWarning)\n",
    "warnings.filterwarnings(action='ignore', category=RuntimeWarning)"
   ]
  },
  {
   "cell_type": "code",
   "execution_count": 3,
   "metadata": {},
   "outputs": [],
   "source": [
    "import pandas as pd\n",
    "import numpy as np\n",
    "import os\n",
    "import pickle"
   ]
  },
  {
   "cell_type": "code",
   "execution_count": 10,
   "metadata": {},
   "outputs": [],
   "source": [
    "import nltk\n",
    "from nltk.tokenize import sent_tokenize\n",
    "from nltk.tokenize import word_tokenize\n",
    "from nltk.corpus import stopwords\n",
    "from sklearn.metrics.pairwise import cosine_similarity\n",
    "from scipy import sparse\n",
    "from sklearn.model_selection import train_test_split\n",
    "from sklearn.feature_extraction.text import TfidfVectorizer"
   ]
  },
  {
   "cell_type": "code",
   "execution_count": 11,
   "metadata": {},
   "outputs": [],
   "source": [
    "# gensim\n",
    "import gensim \n",
    "from gensim import corpora, models, similarities, matutils\n",
    "# sklearn\n",
    "from sklearn import datasets\n",
    "from sklearn.feature_extraction.text import CountVectorizer\n",
    "from sklearn.cluster import KMeans\n",
    "# logging for gensim (set to INFO)\n",
    "import logging\n",
    "logging.basicConfig(format='%(asctime)s : %(levelname)s : %(message)s', level=logging.INFO)"
   ]
  },
  {
   "cell_type": "code",
   "execution_count": 12,
   "metadata": {},
   "outputs": [],
   "source": [
    "import gensim\n",
    "import pyLDAvis.gensim as gensimvis\n",
    "import pyLDAvis"
   ]
  },
  {
   "cell_type": "code",
   "execution_count": 13,
   "metadata": {},
   "outputs": [],
   "source": [
    "import matplotlib.pyplot as plt\n",
    "%matplotlib inline"
   ]
  },
  {
   "cell_type": "code",
   "execution_count": 14,
   "metadata": {},
   "outputs": [],
   "source": [
    "def extract_text(text_path):\n",
    "    with open(text_path, 'r') as content_file:\n",
    "        text = content_file.read()\n",
    "    return text"
   ]
  },
  {
   "cell_type": "code",
   "execution_count": 15,
   "metadata": {},
   "outputs": [],
   "source": [
    "class TextVectorWrap:\n",
    "    \n",
    "    CLEAN_DOUBLECHECK_STOPS = ['chapter','chap','appendix','volume','introduction','page','vol','ibid','vol','www','http','com','htm',\n",
    "                            'ourhollowearth','excerpt', 'htm','matrix iii','see also','turner','index','idaho observer','acknowledgments',\n",
    "                            'also','issn exopoliticsjournal','exopolitics journal','choice echo','ing','matrix volume','publichealthlaw','publichealthlaw net'\n",
    "                            'ats member','member comment','web archive', 'archive org', 'org web', 'photograph reprinted',  'net msehpa',  'msehpa pdf', 'nrel', \n",
    "                            'reprinted nrel', 'downloading web',  'publichealthlaw', 'publichealthlaw net']\n",
    "    \n",
    "    def __init__(self, text_path=None, documents=None, extra_stops=[], max_df=0.6, pickle_to=None, display=True):\n",
    "        \n",
    "        texts = []\n",
    "        filenames = []\n",
    "        \n",
    "        if text_path and not documents:\n",
    "            # Get text filenames\n",
    "            filenames = sorted([filename for filename in os.listdir(text_path) if '.txt' in filename])\n",
    "            if filenames == []: print('No text files found!')\n",
    "            \n",
    "            # Grab texts\n",
    "            for filename in filenames:\n",
    "                #print(filename)\n",
    "                text = extract_text(text_path+filename)\n",
    "                texts.append(text)\n",
    "        elif documents and not text_path:\n",
    "            texts = documents\n",
    "        else:\n",
    "            raise IOException('You need to pass a text file path or a list of documents')\n",
    "        \n",
    "        # Modify stopwords\n",
    "        stop_words = set(stopwords.words('english'))\n",
    "        stop_words.update(TextVectorWrap.CLEAN_DOUBLECHECK_STOPS)\n",
    "        stop_words.update(extra_stops)\n",
    "    \n",
    "        # Vectorize\n",
    "        if display: print('vectorizing: max_df='+str(max_df)+' num_extra_stops='+str(len(extra_stops))+' corpus size ='+str(len(texts)))\n",
    "        vectorizer = TfidfVectorizer(ngram_range=(1, 2),  \n",
    "                                     stop_words=stop_words, \n",
    "                                     token_pattern=\"\\\\b[a-z][a-z][a-z]+\\\\b\",\n",
    "                                     lowercase=True,\n",
    "                                     max_df = max_df)\n",
    "        vector = vectorizer.fit_transform(texts)\n",
    "\n",
    "        # Define self\n",
    "        self.filenames = filenames\n",
    "        self.extra_stops = extra_stops\n",
    "        self.vectorizer = vectorizer\n",
    "        self.vector = vector\n",
    "        self.max_df = max_df\n",
    "        self.pickle_to = pickle_to\n",
    "        \n",
    "        # Pickle\n",
    "        try:\n",
    "            if pickle_to:\n",
    "                pickle.dump(self,open(pickle_to,'wb'))\n",
    "        except:\n",
    "            print('pickling failed')"
   ]
  },
  {
   "cell_type": "code",
   "execution_count": 16,
   "metadata": {},
   "outputs": [],
   "source": [
    "class LdaWrap:\n",
    "    def __init__(self, vectorwrap_file, pickle_to=None, n_topics=20, min_prob=0.03, passes=10, display=True):\n",
    "        \n",
    "        # Load up vector\n",
    "        if display: print('loading vector')\n",
    "        vectorwrap = pickle.load(open(vectorwrap_file,'rb'))\n",
    "        vector = vectorwrap.vector\n",
    "        vectorizer = vectorwrap.vectorizer\n",
    "        filenames = vectorwrap.filenames\n",
    "        vector_T = vector.transpose()\n",
    "        n_texts = vector.shape[0]\n",
    "        \n",
    "        # Build corpus\n",
    "        if display: print('building corpus')\n",
    "        corpus = matutils.Sparse2Corpus(vector_T)\n",
    "\n",
    "        # ID to word dict\n",
    "        if display: print('defining id2word')\n",
    "        id2word = { identifier: word for word, identifier in vectorizer.vocabulary_.items()}\n",
    "\n",
    "        # LDA\n",
    "        if display: print('lda modeling on corpus len='+str(len(corpus)))\n",
    "        lda = models.LdaModel(corpus=corpus, num_topics=n_topics, minimum_probability=min_prob, \n",
    "                                      id2word=id2word, passes=passes)\n",
    "        \n",
    "        # Lists of words describing topics\n",
    "        if display: print('building topic terms')\n",
    "        terms = []\n",
    "        for topic_i in range(n_topics):\n",
    "            terms.append([id2word[term[0]] for term in lda.get_topic_terms(topic_i)])\n",
    "            \n",
    "        # Create topic probs for each text\n",
    "        if display: print('generating text topic probs')\n",
    "        texts_topics=np.zeros((n_texts,n_topics))\n",
    "        for text_i, text in enumerate(corpus):\n",
    "            text_topics = lda.get_document_topics(text)\n",
    "            for topic, prob in text_topics:\n",
    "                texts_topics[text_i, topic] = prob   \n",
    "           \n",
    "        # Define self\n",
    "        if display: print('assigning data')\n",
    "        self.vectorwrap_file = vectorwrap_file\n",
    "        self.filenames = filenames\n",
    "        self.max_df = vectorwrap.max_df\n",
    "        self.n_texts = n_texts\n",
    "        self.corpus = corpus\n",
    "        self.id2word = id2word\n",
    "        \n",
    "        self.n_topics = n_topics\n",
    "        self.min_prob = min_prob\n",
    "        self.passes = passes  \n",
    "        self.lda = lda\n",
    "        self.terms = terms\n",
    "        self.texts_topics = texts_topics\n",
    "        self.perplexity = lda.log_perplexity(corpus)\n",
    "        \n",
    "        self.pickle_to = pickle_to\n",
    "        \n",
    "        # Pickle\n",
    "        try:\n",
    "            if pickle_to:\n",
    "                if display: print('pickling')\n",
    "                #pickle.dump(self,open(pickle_to,'wb'))\n",
    "                pickle.dump(self,open(pickle_to,'wb'))\n",
    "        except:\n",
    "            print('pickling failed')\n",
    "            \n",
    "    def get_top_terms(self):\n",
    "        result = []\n",
    "        \n",
    "        tops = self.lda.top_topics(self.corpus)\n",
    "        topics = [(topic, score) for topic, score in tops]\n",
    "        topics_terms = [term for term, _ in topics]\n",
    "        scores = [score for _,score in tops]\n",
    "        for topic in topics_terms:\n",
    "            clean_topic = [term for _,term in topic]\n",
    "            result.append(clean_topic)\n",
    "        return list(zip(scores,result))\n",
    "    \n",
    "    def make_doc_topics(self, corpus):\n",
    "        if display: print('generating text topic probs')\n",
    "        texts_topics=np.zeros((len(corpus),self.n_topics))\n",
    "        for text_i, text in enumerate(corpus):\n",
    "            text_topics = self.lda.get_document_topics(text)\n",
    "            for topic, prob in text_topics:\n",
    "                texts_topics[text_i, topic] = prob\n",
    "        return texts_topics"
   ]
  },
  {
   "cell_type": "code",
   "execution_count": 17,
   "metadata": {
    "collapsed": true
   },
   "outputs": [
    {
     "name": "stdout",
     "output_type": "stream",
     "text": [
      "vectorizing: max_df=0.8 num_extra_stops=0 corpus size =175\n"
     ]
    },
    {
     "ename": "KeyboardInterrupt",
     "evalue": "",
     "output_type": "error",
     "traceback": [
      "\u001b[0;31m---------------------------------------------------------------------------\u001b[0m",
      "\u001b[0;31mKeyboardInterrupt\u001b[0m                         Traceback (most recent call last)",
      "\u001b[0;32m<ipython-input-17-ecb850615849>\u001b[0m in \u001b[0;36m<module>\u001b[0;34m()\u001b[0m\n\u001b[1;32m      3\u001b[0m \u001b[0mn_topics\u001b[0m \u001b[0;34m=\u001b[0m \u001b[0;36m25\u001b[0m\u001b[0;34m\u001b[0m\u001b[0m\n\u001b[1;32m      4\u001b[0m \u001b[0mmax_df\u001b[0m \u001b[0;34m=\u001b[0m \u001b[0;36m0.8\u001b[0m\u001b[0;34m\u001b[0m\u001b[0m\n\u001b[0;32m----> 5\u001b[0;31m \u001b[0mTextVectorWrap\u001b[0m\u001b[0;34m(\u001b[0m\u001b[0;34m'Clean/'\u001b[0m\u001b[0;34m,\u001b[0m \u001b[0mextra_stops\u001b[0m\u001b[0;34m=\u001b[0m\u001b[0;34m[\u001b[0m\u001b[0;34m]\u001b[0m\u001b[0;34m,\u001b[0m \u001b[0mmax_df\u001b[0m\u001b[0;34m=\u001b[0m\u001b[0mmax_df\u001b[0m\u001b[0;34m,\u001b[0m \u001b[0mpickle_to\u001b[0m\u001b[0;34m=\u001b[0m\u001b[0;34m'final_vectorwrap.pkl'\u001b[0m\u001b[0;34m)\u001b[0m\u001b[0;34m\u001b[0m\u001b[0m\n\u001b[0m\u001b[1;32m      6\u001b[0m \u001b[0;34m\u001b[0m\u001b[0m\n\u001b[1;32m      7\u001b[0m \u001b[0mmin_prob\u001b[0m\u001b[0;34m=\u001b[0m\u001b[0;36m0.03\u001b[0m\u001b[0;34m\u001b[0m\u001b[0m\n",
      "\u001b[0;32m<ipython-input-15-ccaa974db4cd>\u001b[0m in \u001b[0;36m__init__\u001b[0;34m(self, text_path, documents, extra_stops, max_df, pickle_to, display)\u001b[0m\n\u001b[1;32m     39\u001b[0m                                      \u001b[0mlowercase\u001b[0m\u001b[0;34m=\u001b[0m\u001b[0;32mTrue\u001b[0m\u001b[0;34m,\u001b[0m\u001b[0;34m\u001b[0m\u001b[0m\n\u001b[1;32m     40\u001b[0m                                      max_df = max_df)\n\u001b[0;32m---> 41\u001b[0;31m         \u001b[0mvector\u001b[0m \u001b[0;34m=\u001b[0m \u001b[0mvectorizer\u001b[0m\u001b[0;34m.\u001b[0m\u001b[0mfit_transform\u001b[0m\u001b[0;34m(\u001b[0m\u001b[0mtexts\u001b[0m\u001b[0;34m)\u001b[0m\u001b[0;34m\u001b[0m\u001b[0m\n\u001b[0m\u001b[1;32m     42\u001b[0m \u001b[0;34m\u001b[0m\u001b[0m\n\u001b[1;32m     43\u001b[0m         \u001b[0;31m# Define self\u001b[0m\u001b[0;34m\u001b[0m\u001b[0;34m\u001b[0m\u001b[0m\n",
      "\u001b[0;32m~/anaconda3/lib/python3.6/site-packages/sklearn/feature_extraction/text.py\u001b[0m in \u001b[0;36mfit_transform\u001b[0;34m(self, raw_documents, y)\u001b[0m\n\u001b[1;32m   1379\u001b[0m             \u001b[0mTf\u001b[0m\u001b[0;34m-\u001b[0m\u001b[0midf\u001b[0m\u001b[0;34m-\u001b[0m\u001b[0mweighted\u001b[0m \u001b[0mdocument\u001b[0m\u001b[0;34m-\u001b[0m\u001b[0mterm\u001b[0m \u001b[0mmatrix\u001b[0m\u001b[0;34m.\u001b[0m\u001b[0;34m\u001b[0m\u001b[0m\n\u001b[1;32m   1380\u001b[0m         \"\"\"\n\u001b[0;32m-> 1381\u001b[0;31m         \u001b[0mX\u001b[0m \u001b[0;34m=\u001b[0m \u001b[0msuper\u001b[0m\u001b[0;34m(\u001b[0m\u001b[0mTfidfVectorizer\u001b[0m\u001b[0;34m,\u001b[0m \u001b[0mself\u001b[0m\u001b[0;34m)\u001b[0m\u001b[0;34m.\u001b[0m\u001b[0mfit_transform\u001b[0m\u001b[0;34m(\u001b[0m\u001b[0mraw_documents\u001b[0m\u001b[0;34m)\u001b[0m\u001b[0;34m\u001b[0m\u001b[0m\n\u001b[0m\u001b[1;32m   1382\u001b[0m         \u001b[0mself\u001b[0m\u001b[0;34m.\u001b[0m\u001b[0m_tfidf\u001b[0m\u001b[0;34m.\u001b[0m\u001b[0mfit\u001b[0m\u001b[0;34m(\u001b[0m\u001b[0mX\u001b[0m\u001b[0;34m)\u001b[0m\u001b[0;34m\u001b[0m\u001b[0m\n\u001b[1;32m   1383\u001b[0m         \u001b[0;31m# X is already a transformed view of raw_documents so\u001b[0m\u001b[0;34m\u001b[0m\u001b[0;34m\u001b[0m\u001b[0m\n",
      "\u001b[0;32m~/anaconda3/lib/python3.6/site-packages/sklearn/feature_extraction/text.py\u001b[0m in \u001b[0;36mfit_transform\u001b[0;34m(self, raw_documents, y)\u001b[0m\n\u001b[1;32m    867\u001b[0m \u001b[0;34m\u001b[0m\u001b[0m\n\u001b[1;32m    868\u001b[0m         vocabulary, X = self._count_vocab(raw_documents,\n\u001b[0;32m--> 869\u001b[0;31m                                           self.fixed_vocabulary_)\n\u001b[0m\u001b[1;32m    870\u001b[0m \u001b[0;34m\u001b[0m\u001b[0m\n\u001b[1;32m    871\u001b[0m         \u001b[0;32mif\u001b[0m \u001b[0mself\u001b[0m\u001b[0;34m.\u001b[0m\u001b[0mbinary\u001b[0m\u001b[0;34m:\u001b[0m\u001b[0;34m\u001b[0m\u001b[0m\n",
      "\u001b[0;32m~/anaconda3/lib/python3.6/site-packages/sklearn/feature_extraction/text.py\u001b[0m in \u001b[0;36m_count_vocab\u001b[0;34m(self, raw_documents, fixed_vocab)\u001b[0m\n\u001b[1;32m    790\u001b[0m         \u001b[0;32mfor\u001b[0m \u001b[0mdoc\u001b[0m \u001b[0;32min\u001b[0m \u001b[0mraw_documents\u001b[0m\u001b[0;34m:\u001b[0m\u001b[0;34m\u001b[0m\u001b[0m\n\u001b[1;32m    791\u001b[0m             \u001b[0mfeature_counter\u001b[0m \u001b[0;34m=\u001b[0m \u001b[0;34m{\u001b[0m\u001b[0;34m}\u001b[0m\u001b[0;34m\u001b[0m\u001b[0m\n\u001b[0;32m--> 792\u001b[0;31m             \u001b[0;32mfor\u001b[0m \u001b[0mfeature\u001b[0m \u001b[0;32min\u001b[0m \u001b[0manalyze\u001b[0m\u001b[0;34m(\u001b[0m\u001b[0mdoc\u001b[0m\u001b[0;34m)\u001b[0m\u001b[0;34m:\u001b[0m\u001b[0;34m\u001b[0m\u001b[0m\n\u001b[0m\u001b[1;32m    793\u001b[0m                 \u001b[0;32mtry\u001b[0m\u001b[0;34m:\u001b[0m\u001b[0;34m\u001b[0m\u001b[0m\n\u001b[1;32m    794\u001b[0m                     \u001b[0mfeature_idx\u001b[0m \u001b[0;34m=\u001b[0m \u001b[0mvocabulary\u001b[0m\u001b[0;34m[\u001b[0m\u001b[0mfeature\u001b[0m\u001b[0;34m]\u001b[0m\u001b[0;34m\u001b[0m\u001b[0m\n",
      "\u001b[0;32m~/anaconda3/lib/python3.6/site-packages/sklearn/feature_extraction/text.py\u001b[0m in \u001b[0;36m<lambda>\u001b[0;34m(doc)\u001b[0m\n\u001b[1;32m    264\u001b[0m \u001b[0;34m\u001b[0m\u001b[0m\n\u001b[1;32m    265\u001b[0m             return lambda doc: self._word_ngrams(\n\u001b[0;32m--> 266\u001b[0;31m                 tokenize(preprocess(self.decode(doc))), stop_words)\n\u001b[0m\u001b[1;32m    267\u001b[0m \u001b[0;34m\u001b[0m\u001b[0m\n\u001b[1;32m    268\u001b[0m         \u001b[0;32melse\u001b[0m\u001b[0;34m:\u001b[0m\u001b[0;34m\u001b[0m\u001b[0m\n",
      "\u001b[0;32m~/anaconda3/lib/python3.6/site-packages/sklearn/feature_extraction/text.py\u001b[0m in \u001b[0;36m<lambda>\u001b[0;34m(doc)\u001b[0m\n\u001b[1;32m    239\u001b[0m             \u001b[0;32mreturn\u001b[0m \u001b[0mself\u001b[0m\u001b[0;34m.\u001b[0m\u001b[0mtokenizer\u001b[0m\u001b[0;34m\u001b[0m\u001b[0m\n\u001b[1;32m    240\u001b[0m         \u001b[0mtoken_pattern\u001b[0m \u001b[0;34m=\u001b[0m \u001b[0mre\u001b[0m\u001b[0;34m.\u001b[0m\u001b[0mcompile\u001b[0m\u001b[0;34m(\u001b[0m\u001b[0mself\u001b[0m\u001b[0;34m.\u001b[0m\u001b[0mtoken_pattern\u001b[0m\u001b[0;34m)\u001b[0m\u001b[0;34m\u001b[0m\u001b[0m\n\u001b[0;32m--> 241\u001b[0;31m         \u001b[0;32mreturn\u001b[0m \u001b[0;32mlambda\u001b[0m \u001b[0mdoc\u001b[0m\u001b[0;34m:\u001b[0m \u001b[0mtoken_pattern\u001b[0m\u001b[0;34m.\u001b[0m\u001b[0mfindall\u001b[0m\u001b[0;34m(\u001b[0m\u001b[0mdoc\u001b[0m\u001b[0;34m)\u001b[0m\u001b[0;34m\u001b[0m\u001b[0m\n\u001b[0m\u001b[1;32m    242\u001b[0m \u001b[0;34m\u001b[0m\u001b[0m\n\u001b[1;32m    243\u001b[0m     \u001b[0;32mdef\u001b[0m \u001b[0mget_stop_words\u001b[0m\u001b[0;34m(\u001b[0m\u001b[0mself\u001b[0m\u001b[0;34m)\u001b[0m\u001b[0;34m:\u001b[0m\u001b[0;34m\u001b[0m\u001b[0m\n",
      "\u001b[0;31mKeyboardInterrupt\u001b[0m: "
     ]
    }
   ],
   "source": [
    "\"\"\"\n",
    "# Rebuild final model\n",
    "n_topics = 25\n",
    "max_df = 0.8\n",
    "TextVectorWrap('Clean/', extra_stops=[], max_df=max_df, pickle_to='final_vectorwrap.pkl')\n",
    "\n",
    "min_prob=0.03\n",
    "passes=10\n",
    "ldawrap = LdaWrap('final_vectorwrap.pkl', pickle_to='final_ldawrap.pkl', n_topics=n_topics, min_prob=min_prob, passes=passes, display=True)"
   ]
  },
  {
   "cell_type": "code",
   "execution_count": 18,
   "metadata": {},
   "outputs": [],
   "source": [
    "lda_wrap = pickle.load(open('final_ldawrap.pkl','rb'))"
   ]
  },
  {
   "cell_type": "code",
   "execution_count": 19,
   "metadata": {},
   "outputs": [],
   "source": [
    "def summarize_text(text, n_summary_sent=1):\n",
    "    \"\"\"\n",
    "    Return a list of n_sentences with greatest similarity to overall text.\n",
    "    \"\"\"\n",
    "    \n",
    "    # Tokenize sentences\n",
    "    sentences = sent_tokenize(text)\n",
    "    \n",
    "    # Vectorize sentences\n",
    "    cv = CountVectorizer(stop_words=\"english\")\n",
    "    X = cv.fit_transform(sentences).toarray()\n",
    "    \n",
    "    # Make similarities\n",
    "    X_sparse = sparse.csr_matrix(X)\n",
    "    similarities = cosine_similarity(X_sparse)\n",
    "    similarities_sparse = cosine_similarity(X_sparse,dense_output=False)\n",
    "    sent_similarities = sorted(zip(np.mean(similarities,axis=1),sentences), reverse=True)\n",
    "    \n",
    "    return [sentence[1] for sentence in sent_similarities][:n_summary_sent]"
   ]
  },
  {
   "cell_type": "code",
   "execution_count": 20,
   "metadata": {},
   "outputs": [],
   "source": [
    "def summarize_file(text_path, text_char_limit=None, n_summary_sent=1):\n",
    "    text = extract_text(text_path)\n",
    "    if text_char_limit:\n",
    "        text = text[:text_char_limit]\n",
    "    return summarize_text(text,n_summary_sent=n_summary_sent)"
   ]
  },
  {
   "cell_type": "code",
   "execution_count": 21,
   "metadata": {},
   "outputs": [
    {
     "data": {
      "text/plain": [
       "(175, 25)"
      ]
     },
     "execution_count": 21,
     "metadata": {},
     "output_type": "execute_result"
    }
   ],
   "source": [
    "texts_topics = lda_wrap.texts_topics\n",
    "texts_topics.shape"
   ]
  },
  {
   "cell_type": "code",
   "execution_count": 22,
   "metadata": {
    "scrolled": false
   },
   "outputs": [
    {
     "data": {
      "text/plain": [
       "farah__Obama_Eligibility_Primer__2010.txt                              0.736226\n",
       "ovason__the_secret_architecture_of_our_nations_capital__1999.txt       0.118452\n",
       "keel__ufo_operation_trojan_horse__1996.txt                             0.000000\n",
       "jim_keith__saucers_of_the_illuminati__1999.txt                         0.000000\n",
       "jim_keith__secret_and_suppressed__1993.txt                             0.000000\n",
       "jim_marrs__above_top_secret__2008.txt                                  0.000000\n",
       "john_birch__blue_book__1961.txt                                        0.000000\n",
       "john_birch__the-rockefeller-file__1976.txt                             0.000000\n",
       "john_birch__the_politician__1960.txt                                   0.000000\n",
       "john_todd__testimonial_of_witchcraft_illuminati__1973.txt              0.000000\n",
       "jose_arguelles__inevitable_event__.txt                                 0.000000\n",
       "Arugelles__2012_time_on_fire__2012.txt                                 0.000000\n",
       "jim_keith__encyclopedia_mind_control__1999.txt                         0.000000\n",
       "keith__secret_and_suppressed_banned_ideas__1993.txt                    0.000000\n",
       "kenn__chaos_and_cyberculture__1994.txt                                 0.000000\n",
       "khomeini__islam_and_revolution__1981.txt                               0.000000\n",
       "lady_blount__Adrian Galilio__1898.txt                                  0.000000\n",
       "lady_blount__flatearth_Zetetic Astronomy__1904.txt                     0.000000\n",
       "lady_queenborough__occult-theocrasy__1933.txt                          0.000000\n",
       "laycock__10_commandments_antichrist__2009.txt                          0.000000\n",
       "lear__briefing__.txt                                                   0.000000\n",
       "jim_keith__mind_control_world_control__1998.txt                        0.000000\n",
       "irinn__secrets_armageddon__2008.txt                                    0.000000\n",
       "lytton__the_coming_race__2006.txt                                      0.000000\n",
       "hamas__hamas_charter__1988.txt                                         0.000000\n",
       "brown__exopolitics__2005.txt                                           0.000000\n",
       "cluff__hollow_earth_coming_attack_on_us__1996.txt                      0.000000\n",
       "douglass__jfk_unspeakable__2010.txt                                    0.000000\n",
       "elsis__stand_down_911__2003.txt                                        0.000000\n",
       "fonzi__JFK_Last_Investigation__2013.txt                                0.000000\n",
       "                                                                         ...   \n",
       "__survivalist_glossary__2005.txt                                       0.000000\n",
       "aho__merovingian_dynasty_satanic_bloodline__1997.txt                   0.000000\n",
       "albrecht__spychips_rfid__2005.txt                                      0.000000\n",
       "alex_jones__911_descent_into_tyranny__2002.txt                         0.000000\n",
       "arguelles__the_mayan_factor__1987.txt                                  0.000000\n",
       "ayatollah_khomeini__islam_and_revolution__1981.txt                     0.000000\n",
       "baigent__holyblood_holygrail__2004.txt                                 0.000000\n",
       "Todd__Illuminati_and_Witchcraft__1978.txt                              0.000000\n",
       "Texe_Mars__Dark_Secrets_New_Age__1987.txt                              0.000000\n",
       "Minter__cfr_imperial_brain_trust__1977.txt                             0.000000\n",
       "Shaver__I_Remember_Lemuria__1948.txt                                   0.000000\n",
       "Mullet__Secret_Service_Legion_of_Doom__1999.txt                        0.000000\n",
       "Mundkur __cult_of_the_serpant__1983.txt                                0.000000\n",
       "Murdock__zeitgeist__2011.txt                                           0.000000\n",
       "Pabst__concentraion_camp_plans_for_us_citizens__1997.txt               0.000000\n",
       "Poncins__Freemasonry_and_Judaism__1929.txt                             0.000000\n",
       "Richardson__Bilderberg_shaping-global-political-realities__2012.txt    0.000000\n",
       "Schlafly__A_Choice_Not_an_Echo__1964.txt                               0.000000\n",
       "Scott__911_jfk_War__2007.txt                                           0.000000\n",
       "Shenton__flat_earth_essay__.txt                                        0.000000\n",
       "Texe_Marrs__circle_of_intrigue__1995.txt                               0.000000\n",
       "Shriner__Prisoners_of_Dulce_Base__.txt                                 0.000000\n",
       "Springmeier __Bloodlines_of_the_illuminati__1995.txt                   0.000000\n",
       "Springmeir__Illuminati_Mind_Control_Slave__ 2008.txt                   0.000000\n",
       "Tent__ThePowerofVril__2009.txt                                         0.000000\n",
       "Texe Marrs__Conspiracy_Six_Pointed_Star__2011.txt                      0.000000\n",
       "Texe_Marrs__Conspiracy_World__2009.txt                                 0.000000\n",
       "Texe_Marrs__Millennium__1990.txt                                       0.000000\n",
       "Texe_Marrs__Ravaged_by_the_New_Age__1988.txt                           0.000000\n",
       "winrod__Human_Devil__1969.txt                                          0.000000\n",
       "Name: Christianity/Antichrist, Length: 175, dtype: float64"
      ]
     },
     "execution_count": 22,
     "metadata": {},
     "output_type": "execute_result"
    }
   ],
   "source": [
    "topics = ['Anti-Government',\n",
    "          '?1',\n",
    "          'Christianity/Antichrist',\n",
    "          '?3',\n",
    "          'Mind-Control',\n",
    "          'New_Age',\n",
    "          'NWO',\n",
    "          'Noosphere',\n",
    "          'Illuminati',\n",
    "          'Airlines',\n",
    "          'Reptilian_Masters',\n",
    "          '?11',\n",
    "          'Aliens/Ancient',\n",
    "          '?I_AM/Mind_Control',\n",
    "          'Anthrax/Biothreats',\n",
    "          'Islam',\n",
    "          '?16',\n",
    "          '?17',\n",
    "          '?18',\n",
    "          'Birthers',\n",
    "          '?Illuminati/Hallucinogens',\n",
    "          'Holocaust',\n",
    "          'Govt_Internment',\n",
    "          'Pale_Horse',\n",
    "          '?Obama-JFK-Catholicism']\n",
    "\n",
    "books=[]\n",
    "authors=[]\n",
    "pub_dates=[]\n",
    "\n",
    "filenames = sorted([filename for filename in lda_wrap.filenames if '.txt' in filename])\n",
    "for filename in filenames:\n",
    "    print\n",
    "    author, book, pub_date = filename.split('__')\n",
    "    authors.append(author.lower())\n",
    "    books.append(book.lower())\n",
    "    pub_dates.append(pub_date)\n",
    "\n",
    "#topics = pd.DataFrame(index=books, data=texts_topics, columns=topics)\n",
    "    \n",
    "topics_df = pd.DataFrame(index=filenames, data=texts_topics, columns=topics)\n",
    "topics_df.sort_values('Christianity/Antichrist',ascending=False)['Christianity/Antichrist']"
   ]
  },
  {
   "cell_type": "code",
   "execution_count": null,
   "metadata": {},
   "outputs": [
    {
     "name": "stdout",
     "output_type": "stream",
     "text": [
      "Anti-Government\n",
      "jose_arguelles__inevitable_event__.txt\n",
      "['Time and the Technosphere: \\nThe Law of Time in Human Affairs.', 'The Law of Time in Human Affairs \\n\\n\\n\\n\\nTime codes and encompasses the whole of the cycle of artificial time through the \\nthirteen baktun Wave Harmonic of history.', 'Time is all that the noosphere has to give us.', 'Artificial time is not the same as natural \\ntime.', '0 bring \\nto these children of the Earth a good Time, a Time of Peace as long, at least, as was \\ntheir time of history and war, and then let that Time of Peace be multiplied sevenfold!']\n",
      "\n",
      "jim_marrs__above_top_secret__2008.txt\n",
      "['Although Marcel did not contradict the balloon explanation at the time, in\\nlater years he said he was correct the first time about a craft from space\\nand that he was muzzled by military authorities.', 'gest that Earth and Moon came into being far from each other, an idea that stumbles\\nover the inability of astrophysicists to explain how exactly the Moon became a satellite of the Earth.”\\nThe Moon is extremely dry and does not appear to have ever had water in\\nany substantial amounts.', 'Perhaps the strongest evidence that NASA astronauts did successfully reach\\nthe Moon is the 382 kilograms of Moon rocks that were brought back to Earth following the various missions.', 'Here theories diverge—one stating that the Moon was originally a planet\\nwhich collided with the Earth creating debris which combined forming the Moon\\nwhile another states the Moon, while wandering through our solar system, was captured and pulled into orbit by Earth’s gravity.', 'Ubell asked, “If the Earth and Moon\\nwere created at the same time, near each other, why has one body got all the iron\\n[the Earth] and the other [the Moon] not much?” asked Ubell.']\n",
      "\n",
      "john_birch__blue_book__1961.txt\n",
      "['If and when we can reach \\nthe point of turning just the American government from actively helping the Communist \\nconspiracy everywhere in the world, we shall have won a most important battle in the war \\nahead.', 'This pouring of \\nAmerican billions into foreign countries, to make things easier for the Communists and \\ntheir socialist allies or agents, is exactly what the Communists wanted the American \\ngovernment to do.', 'For if you were required to make everything else subordinate, and give to The John \\nBirch Society the whole of your lives, we might as well let the Communists take over in \\nthe first place.', 'If I were \\nthe \"man on the white horse\" on our side in this war, which is still political and \\neducational rather than military ; if I had sufficient resources available and sufficiently \\n\\n\\n\\naccepted authority over one million ded icated supporters — out of at least five times that \\nmany militant anti-Communists who are already enrolled in, or contributing to, hundreds \\nof ineffectual \"freedom\" groups -- so that I could coordinate the activities of those million \\nmen and women with some degree of positiveness and efficiency approaching the \\ncoordination by the Communists of their members and fellow travelers; if, though \\nrecognized as the leader for the sake of positiveness of direction and coordination of \\neffort and resources, I still had the dedicated advice, council, help, organizing ability, and \\nexecutive know-how offered by the ablest men in America among the staunch anti- \\nCommunists whom I could gather around me; if I had this kind of realistic force with \\nwhich to fight the Communists, here are some of the things I would do.', 'This is approximately an eight hundred percent i ncrease in the \\ntwenty years; and that is just about the rate of growth of Communist Power throughout \\nthe world in that time, no matter how you look at it.']\n",
      "\n",
      "john_birch__the-rockefeller-file__1976.txt\n",
      "['\"It would not be at all surprising \" Alsop concluded in his book:\" Nixon and Rockefeller\\n(published in 1960),\"if all the Rockefeller family assets -all the Rockefeller - controlled\\nmoney as well as the Rockefeller \"owned money came to something like 10 billion\\ndollars.', 'Most Americans regard Nelson Rockefeller as the most important member of the\\nRockefeller family.', 'All, of course, are either Rockefeller-controlled or interlocked with the\\nRockefellers through the CFR.', 'The major bankrollers of this -spontaneous- movement were the numerous Rockefeller\\nfoundations, the Rockefeller-controlled Ford Foundation, the Rockefeller controlled\\nCarnegie Foundation and the Rockefeller interlocked Mellon (Gulf Oil) foundations.', '\"What it is ... is a Rockefeller political front.']\n",
      "\n",
      "john_birch__the_politician__1960.txt\n",
      "['For\\nEisenhower and his Communist bosses and their pro-Communist appointees are gradually\\ntaking over our whole government, right under the noses of the American people.', \"And he was entirely willing to accept\\nmy explanation that, it having been absolutely imperative for the Communists to stop the\\nbuilding of this roadblock across the flow of American sovereignty into the United\\nNations, Eisenhower was carrying out Communist orders to stop it — at any price.142\\nOne cost of this course, among many, was such rampant hypocrisy on Eisenhower's part\\nas alone to have raised a lot of eyebrows, had the eyebrows not been spattered and stuck\\nwith so much Communist mud already thrown into the eyes of the American people.\", 'Colonel Eisenhower could have been\\nshot up all the way to Supreme Commander Eisenhower in so short a time, and with so\\nobviously little military ability, without the Communist push behind him every step of the\\nway.', 'The firm grip on our\\ngovernment, of the forces that have worked through Eisenhower, is more important than\\nEisenhower himself.', 'It is almost certain that this step was encouraged, and sold to the\\nBritish and French governments, by Communist influences within those governments,\\nbecause the Communists knew they could use Dulles and Eisenhower and the power of\\nthe American government to convert the invasion into a tragic fiasco.273 The net results\\nwere: (1) to make England and France look like silly third-rate powers, in the whole\\nMiddle East, where their influence had been so strong for so long;274(2) to glorify Nasser,\\nin the eyes of the whole Arab world, as the native hero who had reduced the lions to\\nslinking cats;275(3) to create in both England and France a hatred and distrust of the\\nAmerican government, especially among the real anti-Communists in those countries,\\nwhich later actions would make even more fatal to any defense of Western Europe.276\\nNot only, as is now well known, were all of these steps and results planned in advance, at\\nleast as far back as the Twentieth Congress of the Communist Party in Moscow, in\\nFebruary of 1956; not only were the results successfully achieved; but Dulles and\\nEisenhower carried out their part in the Kremlin-conducted drama with consummate skill.']\n",
      "\n",
      "john_todd__testimonial_of_witchcraft_illuminati__1973.txt\n",
      "[\"SO I DON'T GASP AT SOMEBODY WHEN THEY TELL ME THEY'VE SEEN DEMONS or floated things\\nthrough the air or received answers on Ouija boards or made people do their own will by spells, because I\\nwas there and I know it's so, but at the same time I know how weak it is compared to what I have now.\", \"I GUESS THAT'S WHY WE HAVE SUCH A SUCCESSFUL MINISTRY WITH THE PEOPLE IN DRUGS\\nand THE PEOPLE IN THE OCCULT, because they tried to tell Christians for years the things they'd been\\ninto and the things they've experienced, and they look at them like they're crazy.\", 'NOW CHRISTIANS ASK ME, \"WHAT\\'S THIS GOT TO DO WITH THE CHRISTIAN CHURCH?--WE\\nDON\\'T HAVE TO WORRY ABOUT IT!\"', 'THE ILLUMINATI KNOWS THE PEOPLE ARE GOING TO FIND OUT ABOUT THEM, people found out\\nabout them without my help.', \"Don't let that deceive you, give him\\na year, he'll be a god to many people.\"]\n",
      "\n",
      "Arugelles__2012_time_on_fire__2012.txt\n",
      "['2012: Time on Fire - The Prophecy: Recycling the Collapse of Time\\n2012.', '2012—the New Time.', 'What does it really mean, 2012, the end of history, the collapse of time?', 'This much we can say: 2012 means that it is the closing of the cycle, and, as a consequence, time, at least the old time, is on fire.', 'But most importantly, 2012 is the end of the cycle of history.']\n",
      "\n"
     ]
    },
    {
     "name": "stdout",
     "output_type": "stream",
     "text": [
      "keel__ufo_operation_trojan_horse__1996.txt\n",
      "['Time lapses and inexplicable periods of total amnesia are a\\nkey aspect in the UFO phenomenon, I have now received well over 1 00\\nreports in which witnesses have lost from five minutes to several hours\\nimmediately after sighting an unidentified flying object.', 'The year 1 9 1 3 was just one of the recently rediscovered UFO flap\\nyears, with all kinds of strange objects being reponed in the sky .', 'Fewer than two percent of the known UFO sightings are reported to\\nthe Air Force at all .', 'These elements include terrestrials\\xad\\npeople just like you and me-who are in some way connected with the\\nUFO phenomenon.', 'Ironically, the UFO organizations have, themselves, suppressed and\\ncensored more UFO reports than the Air Force .']\n",
      "\n",
      "irinn__secrets_armageddon__2008.txt\n",
      "['[...]\\nIRINN, May 19, 2008\\nIranian historian Mohammad-Taqi Taqipour: As soon as news about the Balfour Declaration reached the leaders of the Iranian Jews, they held conferences and established the Iranian Zionist Organization, also known as the Central Committee of the Zionist Organizations in Iran.', 'Even then, [Iranian Jews] would immigrate to Israel.', \"[...]\\nIRINN, May 24, 2008\\nNarrator: In the early days of Mohammad Reza Pahlavi's regime, the Zionist organizations grew so much that the Jews began to immigrate to Palestine via Iran.\", '[...]\\nIRINN, June 7, 2008\\nIranian researcher Sayyid Hashem Mir-Louhi: There is a genocidal Zionist Jewish plan for the genocide of humanity at the hand of the Zionist Jew-boys.', 'Iranian University Lecturer Ali-Reza Karimi: They planned to take over large parts of Iran, and to establish concealed camps, which would be populated by Jews from around the world, and especially Europe.']\n",
      "\n",
      "kenn__chaos_and_cyberculture__1994.txt\n",
      "['\"Are people any\\n\\ntremendously increased, because people are thinking and\\n\\nMl\\n\\nto\\n\\npeople in the 20th\\n\\nwho didn\\'t want to get stoned on drugs,\\n\\nCentury\\n\\nThere are direct brain/computer\\n\\nlike.', 'tape, month\\n\\nafter\\n\\nIf you\\n\\nmonth, your brain\\n\\nFor many people, cybersex\\nis\\n\\neasier than ruiming around like a\\n\\nkeep your brain repeating the same old\\n\\nwill sigh\\n\\nreality\\n\\nand give up on you, just like a neglected\\n\\nlover.', \"1\\n\\ndidn't think I'd\\n\\nbe able\\n\\nto\\n\\nput that over on the American science-fiction people,\\n\\nbecause they either don't\\n\\nknow\\n\\nwho Burroughs is or they're immediately\\nhostile ...\\n\\nTL Douglas Adams told me that the three\\n\\nand used\\n\\nhe found\\n\\nit\\n\\nlike\\n\\nbooks were one book, and the publisher\\nsaid to split\\n\\nit\\n\\nthem up into three.\", 'There are\\n\\nwhen it is good to\\n\\nsciousness are naturally going to be an\\n\\nThe drugs did not cause\\n\\ni\\n\\nLEARY: That people are more concerned\\nabout die practicalities of their lives and\\n\\nuse of drugs, which are brain-change\\n\\nforecast this.', 'to get people to talk or anything\\n\\nlike that.']\n",
      "\n",
      "khomeini__islam_and_revolution__1981.txt\n",
      "['Come to the aid of Islam; save Islam!', 'This propaganda is actually directed against Islam, for they want to pretend\\nthat Islam in the present day is incapable of administering a country.', 'Invoking the laws of Islam and the name of the Most Noble Messenger (upon whom\\nbe peace and blessings), they are destroying Islam!', 'The defective version of Islam, which they have presented in\\nthe religious teaching institution, is intended to deprive Islam of its vital,\\nrevolutionary aspect and to prevent Muslims from arousing themselves in order to\\ngain their freedom, fulfill the ordinances of Islam, and create a government that will\\nsecure their happiness and allow them to live lives worthy of human beings.', 'They are destroying Islam!']\n",
      "\n",
      "lady_blount__Adrian Galilio__1898.txt\n",
      "[\"B e n e a th th e r ip p lin g o f th e e d d y in g tid e,\\nW h e n s h a d o w c lo u d s th e m o o n h er b e a m s o ’e rc a st,\\nA s w e e t s m a ll v o ice in s o o t h in g to n es rep lied ,\\n“ H o p e on , th y so u l s h a ll rise a b o v e life ’s w a y w a r d strea m ,\\nA t la s t, a t la st. ”\\n\\n' O T content “ to bloom unseen upon a desert w ild ,” the A b b e was “ un\\nhom m e du m onde,” w ho had em braced the priesthood as the only path\\xad\\nw ay from the v illa g e o f obscurity to the city o f D istinction.\", 'T h e wife o f the\\n\\nB u t they chose the eternal M arriage S upper of H im in whose N am e they\\ncried, “ P e c ca v i.” *\\n\\nall\\n\\n*\\n“ E v e n th e r ig h te o u s n e s s o f G o d w h ic h is b y fa ith o f J e s u s C lir is t u n to\\nand upon\\nth e m th a t b e lie v e : fo r th e re is no differen ce :\\na n d c o m e s h o r t o f th e G lo r y\\no f G o d .” — R o m .', 'A ll th e m e m b e r s o f th e C o n fr a te r n ity o f th e R o s a r y w h o , r e p e n tin g o f\\nth e ir s in s, c a r r y th e b e a d s a b o u t th e m , g a in s 40,000 d a y s ’ in d u lg e n c e on ce a\\nd a y a n d 50 y e a r s ’ in d u lg e n c e fo r s a y i n g th e b e a d s in th e C h u r c h o f th e C o n \\xad\\nfr a te r n ity , or in d e fa u lt o f it, a n y o th e r c h u rc h or o rato ry.', 'In order to g a i n th e se in d u lg e n c e s it is n e c e s s a r y ( i) to b e in scrib ed on\\nth e R e g i s t e r k e p t b y D o m in ic a n s ; (2) to u s e b e a d s b le s se d b y a p rie s t w h o\\nh a s th e s p e c ia l p o w e r ; (3) to s a y th e b e a d s th ree tim e s a w e e k , m e d it a tin g on\\nth e m y s te r ie s a s w e ll a s w e can .', '( T h e “ la t t e r ” died in 1 7 2 7 — la s t c e n tu ry )\\n\\na n d it is o n ly sin ce th is p erio d th a t th e G lo b u la r th e o r y h a s been g e n e r a lly re ceived b y e d u c a te d\\np e rso n s in E u r o p e .']\n",
      "\n",
      "lady_blount__flatearth_Zetetic Astronomy__1904.txt\n",
      "[\"T H E SUN'S MOTIONS NORTH AND SOUTH.\", 'T H E SUN’S MOTIONS SOUTH.', 'SUN’S MOTIONS SOUTH.', \"Then as\\nthe sun's declination South still increases, that is as the sun\\ngoes further south and therefore nearer to, the southern\\ncentre, its spiral movement carries it round that point until\\nit arrives at R, on the inner circle.\", 'The sun’s daily circuit is then\\nat its nearest to the southern centre ; and so the mid-night\\nsun may be seen in the South, at this time of the year, just\\nas it may be seen in the North during the Arctic Summer.']\n",
      "\n",
      "lady_queenborough__occult-theocrasy__1933.txt\n",
      "['H. 0. in all English-speaking\\ncountries is delegated by charter to the Most Holy, Most\\nIllustrious, Most Illuminated and Most Puissant Baphomet X°,\\nRex Summus Sanctissimus, 33°, 90°, 96°, Past Grand Master\\nof the United States of America, Grand Master of Ireland,\\nIona, and All the Britains, Grand Master of the Knights of\\nthe Holy Ghost, Sovereign Grand Commander of the Order\\nof the Temple, Most Wise Sovereign of the Order of the Rosy\\nCross, Grand Zerubbabel of the Order of the Holy Royal\\nArch of Enoch, etc., etc., National Grand Master General\\nad vitam of the O. T. O.', 'He was in the Supreme\\nCouncil of the Order of Mizraim and, at the death of\\nViennet, in whose person the Grand Orient and the\\nScottish Rite had been united, Cremieux succeeded\\nhim as Grand Master.', '284\\n\\nOCCULT THEOCRASY\\n\\n6\\nShould the order wish to initiate a personage of very high\\nsocial rank or one who, in the opinion of the Grand Master\\nshould happen to be in a position demanding the strictest\\nsecrecy, his initiation need be known only to the Assistant\\nGrand Master or the Grand Secretary and the Grand Treasurer.', 'CHAPTER\\n\\nXXVI\\n\\nGRAND LODGE OF ENGLAND\\n(Founded 1717)\\n\\nJohn Valentin Andrea, the Rosicrucian, having elaborated a plan to merge all the existing religious Societies\\ninto one organization, published in 1614 a book Universal and General Reformation of the Whole Wide\\nWorld, in which he advocated the foundation of a secret\\nsociety of all classes, pledged to work quietly for the\\nbenefit of their fellows.', 'ASSOCIATIONS OF THE 17TH CENTURY\\n\\nCHAPTER\\n\\nXXXVII\\n\\nANCIENT ORDER OF HIBERNIANS (A. O. H.)\\n(ROMAN CATHOLIC)\\n\\n(Founded 1641)\\nIn The Secret Societies of Ireland Captain Pollard\\nwrites that, founded in 1641, \" T h e notorious modern\\nsociety known as The Ancient Order of Hibernians is the\\ndirect successor of the original society of Defenders ;\\nin common with its ancestor it attempts to enable\\nthe clerics to exercise control in politics.1 It claims in its\\nown official history, published in 1910, to be the oldest\\nsecret society in Ireland.']\n",
      "\n",
      "laycock__10_commandments_antichrist__2009.txt\n",
      "['Thus, evidence of the New World Order’s unfolding plot can be found both in the Book of Revelation and in the Georgia Guidestones.', '10 Commandments of the Anti-Christ: Mysterious \"Guidestones\" Madden Conspiracy Theorists and Christian Fundamentalists\\n\\n\\nBack in April,\\xa0Wired\\xa0magazine\\xa0published a story\\xa0on the history of a strange monument in rural Elberton, Georgia (\"granite capital of the world\") known as the Georgia Guidestones.', 'This new interpretation elevated the Guidestones from mere local curiosity to the subject of national notoriety among conspiracy theorists and Christian dispensationalists.', 'However, in the last ten years the Guidestones have garnered the attention of conspiracy theorists, who see their message as anti-Christian and a call for a global government.', 'The official story of the Guidestones’ origin is that Joe Fendley Sr., president of the Elberton Finishing Company, was contacted in 1979 by one \"Robert C. Christian\" to commission a monument.']\n",
      "\n",
      "lear__briefing__.txt\n",
      "[\"I don't know what's behind it.\", \"I don't have to convince anybody here about what's going on, so instead of going through the usual background of all of this I'll just start off with a list of what's been happening in the last six months - the stuff that I know that's going on.\", \"I don't know what they do there, but it does exist.\", \"What I'm going to do today is just bring you up to date on some of the stuff that I know that's going on.\", \"I really don't know what it was, but that's the area that it was sent from.\"]\n",
      "\n",
      "keith__secret_and_suppressed_banned_ideas__1993.txt\n",
      "['There Are Three Possibilities:\\u2028(1) that microwaves, perhaps modulated with low biological frequencies, are used from a distance to cause performance decrements and disorganization by interfering with neuro-electric function; or by causing central nervous system effects, subjective feelings of ill health, or health syndrome associated with periodic exposures at intensities below 10,000 microwatts/cm^2;\\n(2) that microwaves are used to create organ specific effects, e.g., tissues with less blood circulation, like the gall bladder, lens of the eye, etc., can compensate less to increased heating; heart disfunctions can be caused; lesions or necrosis of internal tissues can be induced without a subject necessarily feeling heat, and symptoms might manifest later, at certain frequencies, slight heating or “hot spots” can be created at the center of the head; there is an ongoing Navy contract to find parameters to disrupt human metabolic functions; or\\n(3) that they are used in an interdisciplinary approach to remote conditioning by creating information processing effects, as Dr. Adey’s work shows, or to induce “feeling” or “emotional” elements of cognition, such as excitatory reactions, subliminal stress, behavioral arousal, enhanced suggestibility by inhibition of higher functions, or various other EEG or behavioral effects.', 'Applications\\u2028The end of Project Pandora may have signified the end of research into the cause of effects of the varying frequencies registered at the American embassy in Moscow – some known to be due to CIA and National Security Agency equipment, but interest in microwave and biological frequency weapons did not wane.', 'Security concerns, according to Sam Koslov of Defense Advanced Research Projects Agency (DARPA), first prompted U.S. study of health effects of low intensity (or non-thermal) microwaves.', 'Who are they using it on now?”\\nBehavioral Effects\\u2028In June, 1970, a government think tank, Rand Corporation, published a report by R.J. MacGregor, entitled “A Brief Survey of Literature Relating to Influence of Low Intensity Microwaves on Nervous Function.” After noting that the U.S. microwave guideline in effect in 1970 for the public, 10,000 microwatts/^2 (now the industrial and military “guideline”), is proscribed from consideration of the rate that thermal effects are dissipated, the author, a specialist in modeling neural networks, states that scientific studies have consistently shown that humans exhibit behavioral disturbances when subjected to non-thermal levels of microwaves, well below this level.', 'In a review prepared by National Bureau of Standards, Law Enforcement Standards Laboratory, for Nuclear Defense Agency, Intelligence and Security Directorate, use of low intensity microwaves was considered for application as a “psychological deterrent.” The report stated, “…microwave radiation has frequently been cited as being responsible for non-thermal effects in integrated central nervous system activity.']\n",
      "\n",
      "infowars__bin_laden_death_hoax__2011.txt\n",
      "['Stock up with Fresh Food that lasts with eFoodsDirect (AD)\\n\\nCoincidentally, just days ago, the media extensively reported on the ramblings of self-professed mastermind of the September 11, 2001 attacks, Khalid Sheikh Mohammed, who, it is claimed, told interrogators at the Guantanamo Bay detention facility that\\xa0al-Qaeda has hidden a nuclear bomb in Europe\\xa0which will unleash a “nuclear hellstorm” if Osama bin Laden is captured or killed.', 'Terror Fearmongering Follows Bin Laden Death Hoax\\n\\t\\t\\n\\t\\t\\n\\t\\t\\n\\t\\t\\n\\t\\t\\n\\t\\t\\n\\t\\t\\n\\nCorporate media and government frothing over “inevitable” revenge attacks\\nFollowing the contrived Bin Laden is dead now story, the corporate media and the government have been especially quick to warn that\\xa0we’re all in grave danger\\xa0of “reprisal” attacks.', 'The mainstream media has today been drilling home the point in video and print that Al Qaeda probably has “a contingency attack plan in the works”, a terror plot ready to be initiated should Bin Laden be captured or killed.', 'Another revelation from the files was that Al-Qaeda is planning chemical and biological attacks in London and also investigating how to put cyanide in air-conditioning units of some public offices in the US.', 'In the above video report ABC also presents the new Al Qaeda boogeyman, Anwar al-Awlaki, claiming he was behind the attempted\\xa0underpants bombing in 2009 and the foiled toner cartridge attack in 2010.']\n",
      "\n"
     ]
    },
    {
     "name": "stdout",
     "output_type": "stream",
     "text": [
      "lytton__the_coming_race__2006.txt\n",
      "['And since, as I shall have occasion to observe later, the intellectual conditions and social systems of this subterranean race comprise and harmonise great, and apparently antagonistic, varieties in philosophical doctrine and speculation which have from time to time been started, discussed, dismissed, and have re-appeared amongst thinkers or dreamers in the upper world,—so I may perhaps appropriately conclude this reference to the belief of the Vril-ya, that self-conscious or sentient life once given is indestructible among inferior creatures as well as in man, by an eloquent passage from the work of that eminent zoologist, Louis Agassiz, which I have only just met with, many years after I had committed to paper these recollections of the life of the Vril-ya which I now reduce into something like arrangement and form: “The relations which individual animals bear to one another are of such a character that they ought long ago to have been considered as sufficient proof that no organised being could ever have been called into existence by other agency than by the direct intervention of a reflective mind.', '“Stranger,” said he, “you could not have heard me say that this threatened tribe belongs to the Vril-ya; and it only waits for these savages to declare war, in order to commission some half-a-dozen small children to sweep away their whole population.”\\nAt these words I felt a thrill of horror, recognising much more affinity with “the savages” than I did with the Vril-ya, and remembering all I had said in praise of the glorious American institutions, which Aph-Lin stigmatised as Koom-Posh.', 'On the contrary, it is because we have so combined, throughout the series of ages, the elements which compose human character, that it would be utterly impossible for us to adopt the modes of life, or to reconcile our passions to the modes of thought among the Vril-ya,—that I arrived at the conviction that this people—though originally not only of our human race, but, as seems to me clear by the roots of their language, descended from the same ancestors as the Great Aryan family, from which in varied streams has flowed the dominant civilisation of the world; and having, according to their myths and their history, passed through phases of society familiar to ourselves,—had yet now developed into a distinct species with which it was impossible that any community in the upper world could amalgamate: and that if they ever emerged from these nether recesses into the light of day, they would, according to their own traditional persuasions of their ultimate destiny, destroy and replace our existent varieties of man.', 'It may, indeed, be said, since more than one Gy could be found to conceive a partiality for so ordinary a type of our super-terrestrial race as myself, that even if the Vril-ya did appear above ground, we might be saved from extermination by intermixture of race.', 'With our race, therefore, even before the discovery of vril, only the highest organisations were preserved; and there is among our ancient books a legend, once popularly believed, that we were driven from a region that seems to denote the world you come from, in order to perfect our condition and attain to the purest elimination of our species by the severity of the struggles our forefathers underwent; and that, when our education shall become finally completed, we are destined to return to the upper world, and supplant all the inferior races now existing therein.”\\nAph-Lin and Zee often conversed with me in private upon the political and social conditions of that upper world, in which Zee so philosophically assumed that the inhabitants were to be exterminated one day or other by the advent of the Vril-ya.']\n",
      "\n",
      "griffin__New_Pearl_Harbor__2012.txt\n",
      "['34\\nNew York Times, September 16, 2001, and ABC News, September 11 and 14, 2002, cited in Thompson (After 9:03 AM).', 'President Bush’s Movements and Actions on 9/11,” Center for\\nCooperative Research, under “When Did Bush First Learn of the Attacks,” citing New York Times, September 15, and CNN,\\nSeptember 11, 2001.', '16\\nNew York Times, September 11, and USA Today, September 3, 2002, quoted in Thompson (8:55 AM).', '14\\nNew York Times, September 11, 2002.', '10\\nNew York Times, September 16, 2001, Telegraph, December 16, 2001, ABC News, September 14, 2002, and Washington\\nPost, January 27, 2002, quoted in Thompson (After 9:30 AM).']\n",
      "\n",
      "brown__exopolitics__2005.txt\n",
      "['Earth\\nis a life experiment project of Universe society, and is under Universe politics and governance.', 'After Universe scientists genetically seeded us and human beings and human society\\nbecame evolutionary descendants of Universe society, the early concepts of government were\\nestablished on Earth under the guidance of Universe colonizers.', 'Earth’s reintegration into\\nUniverse society may be occurring as part of a definable exopolitical process within Universe society\\nitself.', 'Through education, media, and grass\\n\\n\\x0croots politics, a Decade of Contact can bring awareness to public consciousness about Universe\\nsociety, and can reorient human science and institutions to be “extraterrestrial friendly.” Earth is only\\none of countless populated planets in an organized Universe that is under the guidance of an\\nadvanced Universe society.', 'Earth is a life-experiment planet under the jurisdiction of Universe society.']\n",
      "\n",
      "cluff__hollow_earth_coming_attack_on_us__1996.txt\n",
      "['\"And it shall come to pass, that whosoever shall call on the name of the Lord shall be\\ndelivered: for in mount Zion (America) and in Jerusalem shall be deliverance, as the Lord\\nhath said, and in the remnant whom the Lord shall call.\"', '\"Therefore it shall come to pass that whosoever will not believe in my words (The Book of\\nMormon), who am Jesus Christ, which the Father shall cause him to bring forth unto the\\nGentiles (America), and shall give unto him power that he shall bring them forth unto the\\nGentiles, (it shall be done even as Moses said) they shall be cut off from among my people\\nwho are of the covenant.\"', 'At that time, he gave the ancient Americans this sign, \"that ye may know the\\ntime when these things shall be about to take place -- that I shall gather in, from their long\\ndispersion, my people, O house of Israel, and shall establish again among them my Zion;\"\\n\"And behold, this is the thing which I will give unto you for a sign -- for verily I say unto you\\nthat when these things which I declare unto you, and which I shall declare unto you\\nhereafter of myself, and by the power of the Holy Ghost which shall be given unto you of the\\nFather, shall be made known unto the Gentiles (modern America) that they may know\\nconcerning this people who are a remnant of the house of Jacob (the American Indians),\\nand concerning this my people who shall be scattered by them;\"\\n\"Verily, verily, I say unto you, when these things (The Book of Mormon) shall be made\\nknown unto them of the Father, and shall come forth of the Father, from them unto you;\"\\n\"For it is wisdom in the Father that they should be established in this land, and be set up as\\na free people (The United States of America) by the power of the Father, that these things\\nmight come forth from them unto a remnant of your seed, that the covenant of the Father\\nmay be fulfilled which he hath covenanted with this people, O house of Israel;\"\\n\"Therefore, when these works and the works which shall be wrought among you hereafter\\nshall come forth from the Gentiles, unto your seed which shall dwindle in unbelief because\\nof iniquity;\"\\n\"For thus it behooveth the Father that it should come forth from the Gentiles, that he may\\nshow forth his power unto the Gentiles, for this cause that the Gentiles, if they will not\\nharden their hearts, that they may repent and come unto me and be baptized in my name\\n18\\n\\n\\x0cand know of the true points of my doctrine, that they may be numbered among my people,\\nO house of Israel;\"\\n\"And when these things come to pass that thy seed shall begin to know these things (The\\nBook of Mormon) -- it shall be a sign unto them, that they may know that the work of the\\nFather hath already commenced unto the fulfilling of the covenant which he hath made\\nunto the people who are of the house of Israel.\"', '\"Wherefore, the remnant of the house of Joseph (the American Indians & Hispanics) shall\\n20\\n\\n\\x0cbe built upon this land; and it shall be a land of their inheritance; and they shall build up a\\nholy city unto the Lord, like unto the Jerusalem of old; and they shall no more be\\nconfounded, until the end come when the earth shall pass away.\"', '\"And ye shall know that I am in the midst of Israel, and that I am the Lord your God, and\\nnone else: and my people shall never be ashamed.\"']\n",
      "\n"
     ]
    },
    {
     "name": "stdout",
     "output_type": "stream",
     "text": [
      "douglass__jfk_unspeakable__2010.txt\n",
      "['Kennedy.\"', 'said John Kennedy.', 'Kennedy said, \"I do know that.', '\"You mean President Kennedy?\"', 'Castro had seen Kennedy change as president: \"I have an impression of \\nKennedy and of Kennedy\\'s character, but I formed it over the years that he \\nwas President from different gestures, different attitudes.']\n",
      "\n",
      "elsis__stand_down_911__2003.txt\n",
      "['But they still dont know American Airlines Flight 11 has crashed into the WTC or that United Airlines Flight 175 has turned and has been heading straight toward New York City now for 3 minutes.', 'NORAD may have held on to the vital information of American Airlines Flight 11 for perhaps 8 minutes, maybe 10 minutes (see 8:36 a.m. statement by NORAD spokesman, Major Mike Snyder), possibly up to 26 minutes (see 8:20 a.m. American Airlines Flight 11 transponder signal stopped transmitting its IFF beacon signal) and let us not forget that the last voice transmission of American Airlines Flight 11 with Boston air traffic control occurred at 8:13:31, so maybe NORAD had over 32 minutes before they notified Otis to scramble their two F-15s.', 'There is the possibility the fighters sent after American Airlines Flight 77 later headed towards United Airlines Flight 93.', 'http://www.attackonamerica.net/didhijackersflythroughholesinusairdefense.htm\\xa0\\u2028\\n\\n8:37 a.m.: Flight controllers ask the United Airlines Flight 175 pilots to look for the lost American Airlines Flight 11, about 10 miles to the south.', 'So, 38 minutes after American Airlines Flight 11 has been hijacked we finally have fighters in the air.']\n",
      "\n",
      "farah__Obama_Eligibility_Primer__2010.txt\n",
      "['If Obama’s\\nbirth document is a COLB, then he would be\\nforced to prove he was born in the United\\nA standard, long-form birth certificate, States to establish his eligibility.', 'which is not the same as a long-form,\\nhospital-generated Certificate of Live Birth,\\nwas released by the Obama campaign June 2008.\\n\\nobama eligibility primer 8\\n\\n\\n\\n\\x0cComputer graphics expert Dr. Ron Polarik\\n(an assumed name) contends the COLB is\\nnot a record of Obama’s birth at all, but an\\noutright forgery.', 'Obama campaign\\nspokesman Ben LaBolt declared, “This is Sen.\\nObama’s birth certificate,” and the campaign\\nposted the document on its own Web site,\\nFightthesmears.com, as proof Obama was\\nborn in Hawaii.', 'In sum, the newspaper announcements of\\nObama’s birth possibly confirm he was born\\non August 4, 1961, but because they may\\nhave been based on a short-form COLB, they\\ncannot be viewed as conclusive proof Obama\\nwas born in the city of Honolulu, the state of\\nHawaii, or even the United States.', 'cannot be taken as proof Obama was born in\\nThis statement claims to verify that Obama the United States.']\n",
      "\n",
      "fonzi__JFK_Last_Investigation__2013.txt\n",
      "['Gaeton Fonzi: The Last Investigation, 2008\\n\\n9 of 11\\n\\n\\x0cT\\n\\nhe CIA never informed the committee that Joannides was more than a clerkish Agency expert\\nin “facilitating” document requests.', 'Prior to being forced to wrap up his subcommittee’s investigation, Sen. Schweiker presented the\\n\\nGaeton Fonzi: The Last Investigation, 2008\\n\\n4 of 11\\n\\n\\x0cIntelligence Committee the evidence and the key informant we had developed in Miami.', 'Prior, I had been an\\ninvestigator on the staff of U.S. Sen. Richard Schweiker, who headed a JFK assassination\\n\\nGaeton Fonzi: The Last Investigation, 2008\\n\\n1 of 11\\n\\n\\x0csubcommittee of the Senate Select Committee on Intelligence.', 'As a member of the Senate Select Committee on Intelligence,\\nSchweiker was shocked to learn that CIA Director Allen Dulles had withheld from the Warren\\nCommission crucial revelations about the CIA’s plots to kill Fidel Castro.', 'The\\nAssassinations Committee’s relationship with the CIA regarding the DRE indicates, in itself, what\\na renegade institution the Agency had become.']\n",
      "\n",
      "griffin__911_Commission_Report__2005.txt\n",
      "['But their names are not to be found in The 9/11 Commission\\nReport.', 'Page 90\\nTHE 9/11 COMMISSION REPORT: OMISSIONS ANI) DISTORTIONS How did the\\nCommission reach this conclusion?', \"According to the 9/11 Commission's report, nothing else did that day.\", '\\x0cThe 9 11 Commission Report Omissions And Distortions\\n\\nCHAPTER ONE The Alleged Hijackers As I explained in the Introduction,\\nthe 9/11 Commission for the A most part simply omits evidence that would\\ncast doubt on the official account of 9/11.', \"Page 171\\nCHAPTER THIRTEEN The Commission on Flight 175 The problems in the 9/11\\nCommission's attempt to defend the US military's behavior on 9/11 do not\\nend with its treatment of Flight 11.\"]\n",
      "\n",
      "griffin__DescentIntoSlavery__1980.txt\n",
      "['Although the American people were clearly the losers in\\nWorld War I, as were the people of the other participating nations,\\nthere was one group for which World War I proved to be an\\nunqualified success: The Big Bankers.', 'AMERICA ENTERS WORLD WAR I\\nWith the passage of the income tax bill and the \\'Federal\\'\\nReserve Act, the way was now almost clear for the conspirators\\n\\n\\x0cWORLD AT WAR\\n\\n101\\n\\nPRESIDENT WILSON, MRS. WILSON AND \"COL.\" EDWARD M. HOUSE\\n\\nto bring the American heavy duty \\'kingdom towing service\\' (owned\\nand operated by the Rothschilds and their International Banking\\nassociates) into World War I on the side of the Crown, with the\\nAmerican taxpayers footing the bill.', \"17\\n\\nChapter 5\\n\\nTHE ROTHSCHILD\\nDYNASTY\\nFor many years the words 'International Banker,' 'Rothschild,' 'Money' and 'Gold' have held a mystical type of facination for many people around the world, particularly in the United\\nStates of America.\", 'Why did the United States give such massive aid to Russia\\nduring World War II?', 'Notice a number of vitally important facts: (1) The International Bankers and their agents created conditions that resulted\\nin World War I; (2) They made a financial killing as a result of the\\nwar; (3) They financed the Russian Revolution and seized control\\nof that vast nation; (4) They manipulated events in Europe\\nafter the war so as \"to create a condition\" (Edward Stanton\\'s\\nwords), the result of which left them \"sitting in heaven\" financially; (5) They used American loans, on which they were paid\\nhuge commissions, to re-equip German industry with \"the most\\nadvanced technical facilities\" and to make her \"industrial system.']\n",
      "\n",
      "hamas__hamas_charter__1988.txt\n",
      "['The Zionist plan is limitless.', 'After Palestine, the Zionists aspire to expand from the Nile to the Euphrates.', 'When they will have digested the region they overtook, they will aspire to further expansion, and so on.', '\\nThe Zionist invasion is a vicious invasion.', 'Today it is Palestine, tomorrow it will be one country or another.']\n",
      "\n",
      "infowars__anthrax__.txt\n",
      "['“For years, the FBI has claimed scientific evidence for its conclusion that anthrax spores found in the letters were linked to the anthrax bacteria found in Dr. Ivins’s lab,” said Sen. Charles E. Grassley (R-Iowa).', 'Assaad was extensively questioned by the FBI On October 1, 2001, a fortnight after the first anthrax letters were mailed.', 'Shortly after Ivins’ death, Dr. Ayaad Assaad, an Egyptian-born toxicologist at the U.S. Environmental Protection Agency,\\xa0declared that Ivins did not kill himself and was not behind the attack at all.', 'Ivins’ death provided a neat tie up to the case, which was officially closed last year by The Justice Department, concluding that Ivins had stolen the weaponized anthrax spores from the government lab at the U.S. Army Medical Research Institute of Infectious Diseases where he worked, without any accomplices.', 'Assaad knew Ivins well, not only were they colleagues but their four children were all classmates In Frederick.']\n",
      "\n",
      "hatonn__rise_of_the_antichrist_vol_3__1998.txt\n",
      "['And whether these Protocols\\nare of Jewish origin or not, whether they represent Jewish interests or not, this is exactly the state of the world, of the Gentile\\nworld today.', 'All this focuses up to the World\\nPlan for the subjugation of the Gentiles, and if it is not the Jewish World Plan it would be interesting to know why the material\\n\\n\\x0cfor it is so largely Gentile children and the leaders of it so often\\nof the Jewish race.', 'Is there, then, a Jewish Sanhedrin?--a governing or counseling\\nbody of Jews who take oversight of the affairs of their people\\nthroughout the world?', 'It is aimed against the people of the world who are called \"Gentiles\".', 'Did you ever see Jewish people so\\nvictimized?']\n",
      "\n"
     ]
    },
    {
     "name": "stdout",
     "output_type": "stream",
     "text": [
      "hatton__rise_of_the_antichrist_vol_4__1998.txt\n",
      "['The Jews have\\n\\n\\n-- PJ 230 -- .', 'Jewish idealism is the destruction of Gentile society and the erection of Jewish\\n\\n\\n-- PJ 230 -- .', 'Gentiles have suffered more from Jewish persecutions than have the Jews,\\nfor after the persecutions were over, the Gentile was as much in the dark as ever; whereas Judaism\\nsimply took up again its century-long march toward a goal in which it implicitly believes, and\\nwhich, some say who have deep knowledge of Jewish roots in the world and who too may be\\n\\n\\n-- PJ 230 -- .', '), destined to figure in history\\nas the overshadowing result of the World War, was largely the outcome of Jewish\\nthinking, of Jewish discontent, of Jewish effort to reconstruct....\\n\"What Jewish idealism and Jewish discontent have so powerfully contributed to\\naccomplish in Russia, the same historic qualities of the Jewish mind and heart are\\ntending to promote in other countries....\\n\"Shall America, like the Russia of the Czars, overwhelm the Jew with the bitter and\\nbaseless reproach of being a destroyer, and thus put him in the position of an\\nirreconcilable enemy?', '\"Though it has cost us torrents of\\nblood and tears\", is an admission upon which the Protocols throw light, a light which also shines\\nupon the Jewish argument regarding responsibility for the recent war, namely, that Jewish World\\nFinancial Power could not have willed the war seeing that Jews suffered so heavily in Eastern\\n\\n\\n-- PJ 230 -- .']\n",
      "\n",
      "hislop__tale_two_babylons__1853.txt\n",
      "[\"While this had been the original way in which Pagan idolatry had represented the Triune God, and though this kind of representation had survived to Sennacherib's time, yet there is evidence that, at a very early period, an important change had taken place in the Babylonian notions in regard to the divinity; and that the three persons had come to be, the Eternal Father, the Spirit of God incarnate in a human mother, and a Divine Son, the fruit of that incarnation.\", 'Now, if this worship of the sacred serpent of the Sun, the great fire-god, was so universal in Rome, what symbol could more graphically portray the idolatrous power of Pagan Imperial Rome than the \"Great Fiery Serpent\"?', 'We have seen that the great goddess, who was worshipped in Babylon as \"The Mother,\" was in reality the wife of Ninus, the great god, the prototype of Bacchus.', 'God the Father and God the Son are represented as a MAN with two heads, one body, and two arms.', 'Khons, the son of the great goddess-mother, seems to have been generally represented as a full-grown god.']\n",
      "\n",
      "howard__occultconspiracies_timeline__1989.txt\n",
      "['Foundation of the Rosicrucian Order.', \"L'Order\\nInternationale Chevelresque Tradition Solaire founded on instuctions of the revived Order of the Temple of France (1984).\", 'Masonic Grand Lodge of England and Druid Order founded (1717).', 'Order of Perfectibilists or Illuminati founded.', 'Foundation of the Order of the Knights of the Temple of Solomon in Jerusalem (1118).']\n",
      "\n",
      "icke__alice_in_wonderland_world _trade_center__2002.txt\n",
      "['This is just one of her experiences with President George Bush, father and controller of George W. Bush in the \"war on terrorism.', 'Here a Bush, there a Bush, everywhere a Bush, Bush\\n\\nFather George Bush and his successor Bill Clinton both had considerable connections with the BCCI.', 'Or, as Bush put it: \"You are either with us or against us.\"', 'George Bush).', 'George Bush was president in all, but name.']\n",
      "\n",
      "icke__biggest_secret__1998.txt\n",
      "['In this way, the world can be run by a very few people in the City of London and other Brotherhood centres like Paris, Bonn, Brussels, Washington, New York, Switzerland and the Vatican.', 'That is precisely the aim and the methods of the British public school system and its like around the world, a system which, like the deeper mind-programming projects, are turning out the leaders and administrators who run the world to the Brotherhood reptilian Agenda.', 'The American writer and researcher, William Bramley, concluded in his book, Gods Of Eden, that the Anunnaki created a secret society called the Brotherhood of the Snake and this has been used to manipulate humanity in the way described in the chapters that follow.19 This Brotherhood of the Snake is the core centre of today’s global secret society network which is controlled by the reptilians.', 'This was in fact an experiment to see how people would react to such a situation and they used a story written by H. G. Wells, a Brotherhood clone who advocated the reptilian Agenda, including mass mind control.', 'The ambassador said that: “the delegates are all connected with Franklin...”18 In the years that followed a Brotherhood secret society called the Society of United Irishmen was formed which involved people like Lord Edward Fitzgerald and Wolfe Tone.19 This was behind the Irish rebellions of 1798 and 1803 and the conflict thus triggered has continued in Ireland ever since.']\n",
      "\n",
      "icke__genetics_perception_dimentionality_action_lecture__1997.txt\n",
      "['Some people drink to escape this world, some people take drugs, and some people float around and think they are \"spiritual and enlightened\" and can ignore this world.', 'There has to be some reason why some people submit to that inheritance thing, and some people do.', 'There are people to talk about this in great detail.', 'What does it matter what people think of us?', 'There are people out there proclaiming that they are who they are not.']\n",
      "\n",
      "icke__guide_to_global_conspiracy__2007.txt\n",
      "['Far more than enough is never enough to the Reptilian mind and the \\ncorporate world is full of such people.', \"Figure 115: The image can Figure 116: Credo Mutwa has painted \\n\\nalso be found in the garden of the same theme to reflect ancient \\nP2 member, Silvio Berlusconi African legends about the 'Chitauri, \\n\\n\\n\\nthe 'Children of the Serpent' \\n\\n\\n\\nThe Real Rulers of the World \\n\\n\\n\\nNon-physical or 'spirit' dimensions \\n\\n'Inter-space' plane - \\nreptilian entities here 'possess' llluminati bloodlines \\n\\n• • • \\n\\nft ft ft \\n\\nUSA UK Islamic \\n\\nPolitics » Finance » Media • Mili ta ry • Religion « Royalty \\n\\n\\n\\n...the people the people... ...the people... ...the people... ...the people the people... \\n\\n♦♦♦♦♦♦♦♦♦♦♦ iMMMMii ♦♦♦♦♦♦♦♦♦♦♦ ♦♦♦♦♦♦♦♦♦♦♦ ♦♦♦♦MMiii \\n\\nFigure 117: The leaders in different countries may appear to be from different 'races' with an allegiance to \\ntheir 'nation'; but they are mostly Reptilian hybrids possessed by Reptilian entities working to the same \\ngoal of global domination.\", \"She said that a lot of the time they used 'faux-liberals', someone who \\nessentially agreed with the right-wing guest — 'or they would just bring on people who \\nwere very weak, you know, people who were not well-known'.\", 'He said that people believed in conspiracy theories because they had to find a \\nway of making sense of a complex world.', \"They are programmed not to know, just as people like Cathy \\nO'Brien had no idea she was mind controlled even when it was happening to her every \\nday.\"]\n",
      "\n",
      "lindsey__late_great_planet_earth__1970.txt\n",
      "['This was predicted to \\noccur at a time when the world would be saying, “Behold, \\n\\n\\nISRAEL, O ISRAEL / 51 \\n\\n\\nthey say, Our bones are dried up, and our hope is lost; we \\nare completely cut off\" (Ezekiel 37:11 Amplified), \\n\\nClue four: The crux of the case is that this physical res- \\ntoration to the land is directly associated with triggering the \\nhostility which brings about a great judgment upon all na- \\ntions and the Messiah’s return to set up God\\'s Kingdom, In \\nother words, it is the presence of this reborn nation of Israel, \\nflourishing in prosperity, that excites a great enemy from the \\nuttermost north of Palestine to launch an attack upon them \\nwhich sets off the last war of the world.', 'His Return Will Be to Set Up God’s Kingdom on Earth \\n\\nAfter Christ destroys all ungodly kingdoms, Zechariah \\nsays, “The Lord shall be king over all the earth; in that \\nday shall there be one Lord, and His name one.” \\n\\nMost ministers and religious leaders today reject even the \\npossibility that Christ will establish an actual physical king- \\ndom of God upon the earth.', 'The Bible outlines very specifically that there would be a \\none-world religion which would dominate the world in the \\ntime before the return of Christ.', 'He was the real Lamb of God, \\nWhen John the Baptist, one of the greatest prophets of all \\ntime, first saw Jesus coming toward him, he said, “Behold, \\nthe Lamb of God that takes away the sin of the world” (John \\n1:29 NASB).', 'We believe that in spite of all these things God is going to \\nraise up a believing remnant of true Christians and give one \\nlast great offer of the free gift of forgiveness and acceptance \\nin Jesus Christ before snatching them out of the world as it \\nplunges toward judgment.']\n",
      "\n",
      "martin__obama_uncle__2004.txt\n",
      "['One reviewer called Obama’s family history “deeply depressing.” (link below) When asked if he had looked into any adoption records, Obama’s staff responded that he had not even though Obama mused about adoption in his own book “Dreams From My Father.”\\nWhen I began writing about Barack Obama in 2004 very little was known about him.', 'While I did focus the Birther movement on seeking access to president Obama’s original birth certificate in 2008, the Birther movement was a reaction to deep public uncertainty about who Barack Obama really is.', 'Barack Obama campaigned in 2008 as “No Drama Obama.” The reality is precisely the opposite.', 'Obama’s staff said that release of the birth document would not quell concerns about Obama’s origins, and they were right.', 'But the “birth” of the anti-Obama movement has been distorted by the mainstream media.']\n",
      "\n"
     ]
    },
    {
     "name": "stdout",
     "output_type": "stream",
     "text": [
      "bramley__Gods_of_Eden_Bramley__1989.txt\n",
      "['History\\nindicates that the Brotherhood was turned under its new Custodial \"gods\" into a chilling weapon of spiritual repression\\nand betrayal, despite the efforts of many sincere humanitarians to bring about true spiritual reform through Brotherhood\\nchannels all the way up until today.', 'The people of ancient Mesopotamia thoroughly\\nunderstood this critical fact when they mentioned a spiritual\\nbeing in connection with the creation of Homo sapiens:\\n\\nTHE GODS OF EDEN\\n4\\n3\\nYou have slaughtered a god together\\nwith his personality [spiritual being] I\\nhave removed your heavy work, I\\nhave imposed your toil on man.5\\nCustodial rulers knew that they needed to keep spiritual\\nbeings permanently attached to human bodies in order to\\nanimate those bodies and make them intelligent enough to\\nperform their labors:\\nIn the clay god [a spiritual entity] and Man\\n[physical body of Homo sapiens] shall be bound,\\nto a unity brought together;\\nSo that to the end of days\\nthe Flesh and the Soul\\nwhich in a god have ripened—\\nthat Soul in a blood-kinship be bound;6\\nThe tablets are silent about which \"personalities\" were\\nchosen to animate the new slave bodies.', 'The Gods of Eden\\nBrotherhood of the Snake\\nThe Pyramid Builders\\nJehovah\\nMelchizedek\\'s Apron\\nGods and Aryans\\nThe Maverick Religions\\nDoom Prophets\\nThe Jesus Ministry\\nApocalypse of John\\nThe Plagues of Justinian\\nMohammed\\nMessiahs and Means\\nFlying Gods Over America\\nThe Black Death\\nLuther and the Rose\\nA New Aristocracy\\nFunny Money\\nMarching Saints\\nWilliam and Mary Have a War\\n\\nThe Search Begins\\n\\nWHEN I FIRST began researching the origins of human\\nwarfare, certainly the furthest thing from my mind were\\nUnidentified Flying Objects, better known as \"UFOs.\"', 'To younger people today, World War II is an episode\\nfrom the distant past, much as World War I is ancient\\nhistory to people in their thirties and forties.', 'THE GODS OF EDEN\\n\\n4\\n\\nThe Gods of Eden\\n\\nT HE IDEA THAT human beings are a slave race owned\\nby an extraterrestrial society is not a new one.']\n",
      "\n",
      "texe_marrs__Mystery_Mark__1988.txt\n",
      "['The New Age is the last age.', 'Stars of the New Age\\nAnother precious symbol of God that the New Age and the occult misuse is the star.', '24:21, 22)\\n\\nThings to Come: The Plan\\nIn my book Dark Secrets of the New Age, I exposed the thirteen-point, hidden Plan of Satan to bring to pass a One World\\n\\n\\x0cGovernment and a One World Religion headed by a New Age Messiah or “Christ.”\\nNow, in Mystery Mark of the New Age, I unveil startling facts revealing exactly how satanically-inspired New Age leaders\\nintend to successfully achieve these horrendous objectives.', 'They claim that their Great\\nTeacher of the New Age is, in fact, the New Age “Christ” who is to come.', 'The whole world is going New Age.']\n",
      "\n",
      "saunder__underground_bases_and_tunnels__2014.txt\n",
      "['How To Hide An Underground Base \\n\\nTo illustrate just how well hidden such underground \\n\\n\\n\\n13 \\n\\n\\n\\nUnderground Bases and Tunnels \\n\\nfacilities — and the entrances that give access to them - \\ncan be, consider the examples of two actual, underground \\ninstallations.', \"61 \\n\\n\\n\\nUnderground Bases and Tunnels \\n\\n\\n\\nChapter Four \\n\\nMore Underground Facilities: Military, \\nGovernment, Nuclear and Business \\n\\n\\n\\nAlthough I've been told that the Pentagon operates \\nmany other underground facilities here in the United \\nStates, perhaps dozens more than I've discussed so far, in \\nthis chapter, as in the previous chapter, I will err on the \\nconservative side and report only on those underground \\ninstallations for which I can provide some form of tangible \\ndocumentation.\", 'In 1977 the USNC/TT had the \\nfollowing subcommittees: \\n\\na) Management of Major Underground Construction \\n\\nProjects \\n\\nb) Deep Cavity and Tunnel Support Systems \\n\\nc) On Site Investigation \\n\\nd) Demand Forecasting \\n\\ne) Education and Training \\n\\nf) Contracting Practices^ \\n\\n\\n\\n73 \\n\\n\\n\\nUnderground Bases and Tunnels \\n\\nDeep Underground Tunnel Plans \\n\\nIn 1981 and 1982 the USNC/TT sponsored a special \\nproject called \"Workshop on Technology for the Design and \\nConstruction of Deep Underground Defense Facilities.\"', 'At least three of these \\n\\n\\n\\n68 \\n\\n\\n\\nMore Underground Facilities \\n\\nwere underground complexes.', '(In \\nfact, as I shall show later, already in the 1950s the United \\n\\n\\n\\n22 \\n\\n\\n\\nThe Military Underground: Air Force, Army and Navy \\n\\nStates government had constructed a number of secret, \\ndeep underground installations.)']\n",
      "\n",
      "schadewald__flat_earth_bible__1987.txt\n",
      "[\"In Daniel, the king “saw a tree of great height at the centre of the earth...reaching with its top to the sky and visible to the earth's farthest bounds.” If the earth were flat, a sufficiently tall tree would be visible to “the earth's farthest bounds,” but this is impossible on a spherical earth.\", 'The Bible is, from Genesis to Revelation, a flat-earth book.', 'The modern (though not the ancient) flat-earth model has day and night occurring simultaneously at different points on earth.', 'Both civilizations had flat-earth cosmologies.', 'The flat-earth view is geocentricity with further restrictions.']\n",
      "\n",
      "sipsey__modern_sons_liberty__2010.txt\n",
      "['But BREAK THEM.', 'Break them NOW.', 'Break them NOW.', 'Break them NOW.', 'We can break their windows.']\n",
      "\n",
      "sklar__trilateralism_excerpt__1980.txt\n",
      "['The individuals Carter chose to fill the central policy making positions in his administration were overwhelmingly from Eastern Establishment organizations: the Trilateral Commission, the Council on Foreign Relations, and the Committee for Economic Development.', 'The CFR had its special chance to be a \"Board of Invention\" during and after World War II when it played a pivotal role in formulating U.S. war aims, constructing the post-World War II international economic and political order, and guiding U.S. policy over the last quarter century.', 'The Council thought that the answer was no and that, therefore, the United States had to enter the war and organize a new world order satisfactory to the United States....\\n***\\nThe Council and the Origins of the United Nations\\nCouncil leaders recognized that in an age of rising nationalism around the world, the United States had to avoid the onus of big-power imperialism in its implementation of the Grand Area and creation of one open door world.', 'The Third World calls for a New International Economic Order (NIEO) to redress structural inequities and protect national economic (and political) sovereignty.', 'Thus, domestic items on the trilateral agenda include: reducing the expectations of the poor and middle class, increasing presidential authority, strengthening business-government cooperation in economic planning, stricter press self-regulation and government oversight, and pacification of rank and file labor...\\n\\nWestern Europe, the United States and Canada have experienced a considerable degree of coherence in policy and outlook since World War II.']\n",
      "\n",
      "stewart__esoteric_agenda_transcript__2015.txt\n",
      "['So the messages left by the ancients that we have explained here were more than just prophesies about\\na One World Government or New World Order.', 'The world cannot support 6\\nbillion people.', 'PLEASE STAND BY, PLEASE STAND BY\\n(A: speaking)\\nAnd for those of you who are unaware of this one world government and one world religion, I challenge\\nyou to do an internet search on the New World Order.', 'The\\nHouse of Windsor is known for abandoning their German name after World War 1 due to criticism of the\\npeople.', '(man) I think one thing people who are dollar based need to focus on is the Amero.']\n",
      "\n",
      "stewart__evolutionary_manifesto__2008.txt\n",
      "['Wherever life emerges, living processes will progressively become organized into cooperatives of\\ngreater and greater scale; this will be accompanied by a long sequence of improvements in\\nevolvability; eventually organisms will emerge that can build mental models of their environment\\nand themselves; they will use this capacity to develop a comprehensive understanding of the\\nevolutionary processes that have produced them and will determine their future; for the first time\\nthey will have a powerful, science-based story that explains where they have come from, and their\\nplace in the unfolding of the universe; they will see that evolution is headed somewhere—it is\\ndirectional; they will begin to see themselves as having reached a particular stage in an on-going\\nand directional evolutionary process; individuals will begin to emerge who see that evolution will\\nprogress further only if they commit to working consciously to advance the process; they will\\nrealize that this realization is itself an important step in the transition to conscious evolution; as\\npart of this transition they will develop in themselves the capacity to free themselves from the\\ndictates of their evolutionary past, becoming self-evolving beings, able to evolve in whatever\\ndirections are necessary to contribute positively to the future evolution of life in the universe; a\\nunified and cooperative organization will emerge that comprises all the living processes that arose\\nwith them and all the technology, matter, energy and other resources available to them, eventually\\ndeveloping the capacity to adapt as a whole, transcending the particularities of its evolutionary\\npast, becoming a self-evolving being in its own right, expanding in scale, linking up with other\\norganizations of living processes that arose elsewhere, expanding in scale again and again, moving\\nforever onwards and upwards, without end.', 'THE EVOLUTIONARY MANIFESTO\\nOur role in the future evolution of life\\n\\n\\nINTENTIONAL EVOLUTION\\n\\nA completely new phase in the evolution of life on Earth has begun.', '7\\n\\n\\x0cThe Evolutionary Manifesto\\nLearning from evolution about how to organize cooperation\\nAs part of their goal to advance the evolutionary process on Earth, intentional evolutionaries are\\nworking to establish the global organization.', '13\\n\\n\\x0cThe Evolutionary Manifesto\\nIntentional evolutionaries realize that their embrace of conscious evolution and evolutionary\\nactivism is essential if evolution on Earth is to progress.', 'If this transition to intentional evolution does not occur,\\nevolution on this planet will stall, and humanity will not contribute positively to the future\\nevolution of life in the universe—we will be a failed evolutionary experiment.']\n",
      "\n"
     ]
    },
    {
     "name": "stdout",
     "output_type": "stream",
     "text": [
      "texe_marrs__Beast_666_Project_LUCID__1996.txt\n",
      "['card\\nPROJECT L.U.C.I.D.', 'Combined with the Universal Biometrics Card and the global system of human control\\nunder Project L.U.C.I.D.., ISO 9000 provides the coming World Government with a means of\\ncomprehensive control.', 'Card A CIA Project ?', 'card system did not\\nPROJECT L.U.C.I.D.', 'card issuing\\nPROJECT L.U.C.I.D.']\n",
      "\n",
      "texe_marrs__Days_of_Hunger_Days_of_Chaos__1999.txt\n",
      "['No seed, no food—unless—you buy more seed.”\\n\\nNew World Order Creates “Bioserfdom”\\nJeff Baker, author of Cheque Mate: The Game of Princes, a book exposing the global conspiracy of government and money,\\nsuggests that the control of agricultural production and food supply is a fulfillment of Bible prophecy:\\nThis will allow the complete control of all food-growing in the hands of a few New World Order (NWO) companies,\\ncreating, as one writer put it, “bioserfdom.” Remember friends, the NWO folks believe that, “food is power,” and they\\nwill “use it to change behavior, so that no man may buy or sell, save he that had the mark of the beast.” 7\\nIf there are those who would doubt my claim in Days of Hunger, Days of Chaos that the federal government and the\\nmultinational corporate elite are colluding together to pull off the biggest heist in human history—the monopolistic grab of\\nseeds and food—this is convincing proof that what I report is accurate.', 'Is there an Illuminati plan for a powerful new United Nations agency, the World Food Authority , which will control the\\nproduction and distribution of food?', 'The embryo of this World Food Authority (WFA) is already found in the United Nations current World Food and\\nAgriculture Organization (WFAO) .', 'A World Food Authority (WFA) will be given control of existing food supplies and have authority over all food\\nproduction, storage, and distribution.', 'Where is the food?']\n",
      "\n",
      "texe_marrs__New_Age_Cults_And_Religions__1990.txt\n",
      "['New\\n\\n..\\n\\nNew Age to.', ';” “What is\\nthe New Age Christ?', 'preparing\\nmankind for a World Religion that’s compatible with the\\nNew Age.”\\n\\n\\x0cWhat is the New Age?', 'God As You Understand Him: The New Age Deity\\nThe first and cardinal rule in the New Age is simply this:\\n“Believe in any god and in anything, but do not claim that\\nyour god, or your belief, is exclusive.” That is, as long as you\\naccept that all is one and that your religion is no better than\\nthe next person’s, then you qualify to be a New Ager.', 'For example, a group called New Age Light in New Zealand\\npublishes a false bible entitled The New Age Testament o f\\nLight.']\n",
      "\n",
      "mckenna__true_hallucinations__1975.txt\n",
      "['The MORNING OF THE SEVENTH, Ev returned with Dave and Vanessa to the river, \\nand for the first time in two days Dennis and I were alone.', 'After this conversation, Ev and I returned through rainy darkness to the forest house for \\nthe night and Dennis stayed at the river house with Vanessa and Dave, where he had \\nmoved by this time.', 'While mulling over this disturbing \\npossibility for the first time, I noticed that Dennis had left his hammock and was standing \\nin the doorway of the hut; in a perfect imitation of our father\\'s voice, he consoled me with \\nthe spoken thought that \"Dennis is a good lad and would never do a thing like that.\"', 'In the last of the darkness before dawn, at a time I \\nfelt matched exactly the time when we performed the experiment two days before, I \\n\\n\\n\\nheard Dennis stir in his hammock inside the hut.', 'After the first mushroom experience at La Chorrera, Dennis and I were involved with two \\nideas in particular.']\n",
      "\n",
      "texe_marrs__dark_majesty__2004.txt\n",
      "['The True Light of the World\\n82\\n\\n\\x0cThe intent of the Secret Brotherhood is to create a system of magical\\nbelief in which men and women willingly support the New World\\nOrder.', 'The sometimes strange, secretly coded illuminist speeches of\\nPresident George Bush in which he repeats the term, the \"New World\\nOrder,\" over and over must, therefore, be considered in light of the\\nfact that he is a Skull & Bones alumni and a dedicated and loyal\\nservant of the Secret Brotherhood.', 'In the place of world glamour and world illusion must come a new\\nway of thinking, so that, \"The present world order can be so modified\\nand changed that a New World Order and a new race of men can\\ngradually come into being.\"', \"12\\n\\n\\x0cThey were an elite group...who helped shape a New World\\nOrder...They steered the United States...toward a new and\\ndifficult international role... 7\\n\\nPresident Bush's Unchanging Allegiance to the Brotherhood\\nAs President, George Bush has surrounded himself with fellow\\nbrothers of the Skull & Bones and interlinking, related groups, such as\\nthe Council on Foreign Relations and the Trilateral Commission.\", '3\\nThus the members of the Skull & Bones perceive themselves as the\\nmen who are to bring in the New World Order.']\n",
      "\n",
      "tucker__bilderberg_diary__2005.txt\n",
      "['That was enough for Bilderberg.', '\\x0cWhat is Bilderberg?', 'Is Bilderberg meeting here?\"', 'So the Bilderberg that made Major became the Bilderberg that\\nunmade him.', 'That year, they met at the Bilderberg Hotel\\nin Holland, and took the name \"Bilderberg\" for themselves.']\n",
      "\n",
      "valerian__matrix_I__1992.txt\n",
      "['Information u 70**1 bit tbout \\nth**t cT*f t, th*ir parformanc* chAr*ot«rl*tic* and th*ir \\nTfuhw** 3*d t* th* und*rtafciiyt Vnown At tJ*3* Air Port* project \\n3ISS In >cnbip, 1947* In ord*r to pr***rM ttcurlty* Haton \\nb*tv*tn JISI u4 m limited to tvo lntiindu*}* \\n\\nwithin th* latclliJEtnct Siriiisn of Air Jlat trial Comra-nd who»* \\nrol* qi to hji a-Iom e*rt*in typ** ofiif oi-=at£gn throocb \\ncJianpelt* 315* *tp1tM Into Project GITOl Ln 3«rab*r, 19*8* \\nfit operation ;i curretly b*ii£ eonduotad ur.d#r th* cod* r_ ui \\nSL07 3001 1 with liusn maiatAiawI tirm^ th* Air Pore* officer \\nvtio 1* h**4 of th* project* ■; \\n\\n\\nCn 04 5«nbir t 1990* a atcond object, probably of il»ll*r \\norijcla, impacted th* *irih At hi Ah apttd in th* £1 Indio - \\ncu*rrtro at** of tit tnu - Urncaa b*4*r Afttr follows* \\n\\n* Ictgt traintorr tbrovuen th* itui^i«ri t ly th* :im * \\n\\n***rcn t«i hitH; rcsaihid ef tic ebi-.tt ttd btsu t:»:t \\n\\ntotally iAdiAaratwl, 3uoh mtrrial A* could U rttortrtd m \\ntnuported to.th* 4.S.C* facility at 3an4U, Mexico, for \\nitudy,.', ', th* ?', \"right th*r# in th* e*n' + *r?\", 'Th#r# 1 - i, \\nright th*r*.', 'Th* obj*ct to th*, th* osjACt to th* So^th is Still \\np*aalng down lignts to th* ground.']\n",
      "\n"
     ]
    }
   ],
   "source": [
    "topics = topics_df.columns.tolist()\n",
    "for topic in topics:\n",
    "    print(topic)\n",
    "    \n",
    "    sorted_df = topics_df.sort_values(topic,ascending=False)\n",
    "    top_texts = sorted_df[sorted_df[topic]<=.5].index\n",
    "    \n",
    "    for top_text in top_texts:\n",
    "        top_text_summary = summarize_file('Clean/'+top_text,n_summary_sent=5)\n",
    "        print(top_text)\n",
    "        print(top_text_summary)\n",
    "        print()\n",
    "    print()"
   ]
  },
  {
   "cell_type": "code",
   "execution_count": null,
   "metadata": {},
   "outputs": [],
   "source": [
    "topics = topics_df.columns.tolist()\n",
    "for topic in ['Illuminati']:#topics:\n",
    "    print(topic)\n",
    "    \n",
    "    top_texts = topics_df.sort_values(topic,ascending=False).index[:]\n",
    "    for top_text in top_texts:\n",
    "        top_text_summary = summarize_file('Clean/'+top_text,n_summary_sent=5)\n",
    "        print(top_text)\n",
    "        print(top_text_summary)\n",
    "        print()\n",
    "    print()"
   ]
  },
  {
   "cell_type": "code",
   "execution_count": null,
   "metadata": {},
   "outputs": [],
   "source": [
    "summarize_file('Clean/'+'michael__extraterrestrial_friends_foes_curious__2011.txt',n_summary_sent=3)"
   ]
  },
  {
   "cell_type": "code",
   "execution_count": null,
   "metadata": {},
   "outputs": [],
   "source": [
    "summarize_file('Clean/'+'morse__Foreign_Conspiracy_Against_the_Liberties_of_USA__1835.txt',n_summary_sent=5)"
   ]
  },
  {
   "cell_type": "code",
   "execution_count": 29,
   "metadata": {},
   "outputs": [
    {
     "data": {
      "image/png": "[encoded data removed]",
      "text/plain": [
       "<matplotlib.figure.Figure at 0x1a38d51978>"
      ]
     },
     "metadata": {},
     "output_type": "display_data"
    }
   ],
   "source": [
    "plt.figure(num=None, figsize=(8, 6), dpi=80, facecolor='w', edgecolor='k')\n",
    "k_list = list(range(2,30))\n",
    "km_list = []\n",
    "clusters_list = []\n",
    "inertia_list = []\n",
    "for k in k_list:\n",
    "    km = KMeans(n_clusters=k)\n",
    "    km.fit(texts_topics)\n",
    "    clusters = km.predict(texts_topics)\n",
    "    \n",
    "    km_list.append(km)\n",
    "    clusters_list.append(clusters)\n",
    "    inertia_list.append(km.inertia_)\n",
    "    \n",
    "plt.plot(k_list,inertia_list)\n",
    "plt.title('KMeans Inertia')\n",
    "plt.xlabel('K')\n",
    "plt.ylabel('Inertia');"
   ]
  },
  {
   "cell_type": "code",
   "execution_count": 26,
   "metadata": {},
   "outputs": [],
   "source": [
    "from sklearn.cluster import DBSCAN, SpectralClustering, MeanShift\n",
    "\n",
    "X = texts_topics\n",
    "db = DBSCAN(eps=0.15, min_samples=3).fit_predict(X)\n",
    "sc = sc = SpectralClustering(n_clusters=3)"
   ]
  },
  {
   "cell_type": "code",
   "execution_count": 27,
   "metadata": {},
   "outputs": [
    {
     "data": {
      "text/plain": [
       "array([-1, -1,  0, -1,  0,  1,  2,  0,  0, -1,  3, -1,  3,  4,  3,  5, -1,\n",
       "        6,  7,  6, -1,  8,  9, -1,  1, 10, -1, -1,  3,  7,  3,  0,  0,  0,\n",
       "        0,  8,  7,  0,  0,  3, -1, 11,  3,  6, 12,  3,  4, -1,  2, -1, 13,\n",
       "        8, 12, 13,  0,  2, 12,  3,  0,  0,  0,  0, 14, -1, -1, 15, -1, 16,\n",
       "       -1,  0, 16, 16, -1, -1,  9,  6, -1, 16, 14,  6, 17, 15, 14, 18, -1,\n",
       "        0,  6,  3,  0,  0, 14, 18,  0,  9, -1, 17, 15,  3,  0, -1, -1, -1,\n",
       "        6,  9,  0,  0, 13,  0, 13,  5,  1, 11, 11, 11, 11,  0, 13,  3, 13,\n",
       "       17, 18,  0,  1,  0, 18,  0,  4, -1,  5, -1,  7, 18, 12, 18,  1, -1,\n",
       "        7, 19,  4,  0, 13,  0,  9, 17, 17,  1,  7,  2,  3, 18, -1, 19,  9,\n",
       "        8, 10, -1, 10,  1, -1, 19, 17, 12, 13, -1, 15,  0, -1, 11,  6,  0,\n",
       "        0, 18, 12,  0,  7])"
      ]
     },
     "execution_count": 27,
     "metadata": {},
     "output_type": "execute_result"
    }
   ],
   "source": [
    "db"
   ]
  },
  {
   "cell_type": "code",
   "execution_count": 28,
   "metadata": {},
   "outputs": [
    {
     "data": {
      "text/plain": [
       "19"
      ]
     },
     "execution_count": 28,
     "metadata": {},
     "output_type": "execute_result"
    }
   ],
   "source": [
    "max(db)"
   ]
  },
  {
   "cell_type": "code",
   "execution_count": null,
   "metadata": {},
   "outputs": [],
   "source": [
    "ldawrap = pickle.load(open(vectorwrap_file,'rb'))"
   ]
  },
  {
   "cell_type": "code",
   "execution_count": 14,
   "metadata": {},
   "outputs": [],
   "source": [
    "def nltk_stopwords():\n",
    "    return set(nltk.corpus.stopwords.words('english'))\n",
    "\n",
    "def prep_corpus(docs, additional_stopwords=set(), no_below=5, no_above=0.5):\n",
    "    print('Building dictionary...')\n",
    "    dictionary = Dictionary(docs)\n",
    "    stopwords = nltk_stopwords().union(additional_stopwords)\n",
    "    stopword_ids = map(dictionary.token2id.get, stopwords)\n",
    "    dictionary.filter_tokens(stopword_ids)\n",
    "    dictionary.compactify()\n",
    "    dictionary.filter_extremes(no_below=no_below, no_above=no_above, keep_n=None)\n",
    "    dictionary.compactify()\n",
    "\n",
    "    print('Building corpus...')\n",
    "    corpus = [dictionary.doc2bow(doc) for doc in docs]\n",
    "\n",
    "    return dictionary, corpus"
   ]
  },
  {
   "cell_type": "code",
   "execution_count": 24,
   "metadata": {
    "collapsed": true
   },
   "outputs": [
    {
     "ename": "NameError",
     "evalue": "name 'Dictionary' is not defined",
     "output_type": "error",
     "traceback": [
      "\u001b[0;31m---------------------------------------------------------------------------\u001b[0m",
      "\u001b[0;31mNameError\u001b[0m                                 Traceback (most recent call last)",
      "\u001b[0;32m<ipython-input-24-ac69bbcb5925>\u001b[0m in \u001b[0;36m<module>\u001b[0;34m()\u001b[0m\n\u001b[1;32m      2\u001b[0m \u001b[0;32mimport\u001b[0m \u001b[0mgensim\u001b[0m\u001b[0;34m.\u001b[0m\u001b[0mcorpora\u001b[0m\u001b[0;34m\u001b[0m\u001b[0m\n\u001b[1;32m      3\u001b[0m \u001b[0;32mimport\u001b[0m \u001b[0mpyLDAvis\u001b[0m\u001b[0;34m.\u001b[0m\u001b[0mgensim\u001b[0m\u001b[0;34m\u001b[0m\u001b[0m\n\u001b[0;32m----> 4\u001b[0;31m \u001b[0mdictionary\u001b[0m \u001b[0;34m=\u001b[0m \u001b[0mDictionary\u001b[0m\u001b[0;34m(\u001b[0m\u001b[0mlda_wrap\u001b[0m\u001b[0;34m.\u001b[0m\u001b[0mcorpus\u001b[0m\u001b[0;34m)\u001b[0m\u001b[0;34m\u001b[0m\u001b[0m\n\u001b[0m",
      "\u001b[0;31mNameError\u001b[0m: name 'Dictionary' is not defined"
     ]
    }
   ],
   "source": [
    "import gensim\n",
    "import gensim.corpora\n",
    "import pyLDAvis.gensim\n",
    "dictionary = Dictionary(lda_wrap.corpus)"
   ]
  },
  {
   "cell_type": "code",
   "execution_count": null,
   "metadata": {},
   "outputs": [],
   "source": [
    "pyLDAvis.gensim.prepare(lda, corpus, dictionary)"
   ]
  }
 ],
 "metadata": {
  "kernelspec": {
   "display_name": "Python 3",
   "language": "python",
   "name": "python3"
  },
  "language_info": {
   "codemirror_mode": {
    "name": "ipython",
    "version": 3
   },
   "file_extension": ".py",
   "mimetype": "text/x-python",
   "name": "python",
   "nbconvert_exporter": "python",
   "pygments_lexer": "ipython3",
   "version": "3.6.4"
  }
 },
 "nbformat": 4,
 "nbformat_minor": 2
}
